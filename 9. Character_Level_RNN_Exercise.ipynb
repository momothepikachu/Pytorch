{
 "cells": [
  {
   "cell_type": "markdown",
   "metadata": {},
   "source": [
    "# Character-Level LSTM in PyTorch\n",
    "\n",
    "In this notebook, I'll construct a character-level LSTM with PyTorch. The network will train character by character on some text, then generate new text character by character. As an example, I will train on Anna Karenina. **This model will be able to generate new text based on the text from the book!**\n",
    "\n",
    "This network is based off of Andrej Karpathy's [post on RNNs](http://karpathy.github.io/2015/05/21/rnn-effectiveness/) and [implementation in Torch](https://github.com/karpathy/char-rnn). Below is the general architecture of the character-wise RNN.\n",
    "\n",
    "<img src=\"assets/charseq.jpeg\" width=\"500\">"
   ]
  },
  {
   "cell_type": "markdown",
   "metadata": {},
   "source": [
    "First let's load in our required resources for data loading and model creation."
   ]
  },
  {
   "cell_type": "code",
   "execution_count": 71,
   "metadata": {},
   "outputs": [],
   "source": [
    "import numpy as np\n",
    "import torch\n",
    "from torch import nn\n",
    "import torch.nn.functional as F"
   ]
  },
  {
   "cell_type": "markdown",
   "metadata": {},
   "source": [
    "## Load in Data\n",
    "\n",
    "Then, we'll load the Anna Karenina text file and convert it into integers for our network to use. "
   ]
  },
  {
   "cell_type": "code",
   "execution_count": 72,
   "metadata": {},
   "outputs": [],
   "source": [
    "# open text file and read in data as `text`\n",
    "with open('data/anna.txt', 'r') as f:\n",
    "    text = f.read()"
   ]
  },
  {
   "cell_type": "markdown",
   "metadata": {},
   "source": [
    "Let's check out the first 100 characters, make sure everything is peachy. According to the [American Book Review](http://americanbookreview.org/100bestlines.asp), this is the 6th best first line of a book ever."
   ]
  },
  {
   "cell_type": "code",
   "execution_count": 73,
   "metadata": {},
   "outputs": [
    {
     "data": {
      "text/plain": [
       "'Chapter 1\\n\\n\\nHappy families are all alike; every unhappy family is unhappy in its own\\nway.\\n\\nEverythin'"
      ]
     },
     "execution_count": 73,
     "metadata": {},
     "output_type": "execute_result"
    }
   ],
   "source": [
    "text[:100]"
   ]
  },
  {
   "cell_type": "markdown",
   "metadata": {},
   "source": [
    "### Tokenization\n",
    "\n",
    "In the cells, below, I'm creating a couple **dictionaries** to convert the characters to and from integers. Encoding the characters as integers makes it easier to use as input in the network."
   ]
  },
  {
   "cell_type": "code",
   "execution_count": 74,
   "metadata": {},
   "outputs": [],
   "source": [
    "# encode the text and map each character to an integer and vice versa\n",
    "\n",
    "# we create two dictionaries:\n",
    "# 1. int2char, which maps integers to characters\n",
    "# 2. char2int, which maps characters to unique integers\n",
    "chars = tuple(set(text))\n",
    "int2char = dict(enumerate(chars))\n",
    "char2int = {ch: ii for ii, ch in int2char.items()}\n",
    "\n",
    "# encode the text\n",
    "encoded = np.array([char2int[ch] for ch in text])"
   ]
  },
  {
   "cell_type": "markdown",
   "metadata": {},
   "source": [
    "And we can see those same characters from above, encoded as integers."
   ]
  },
  {
   "cell_type": "code",
   "execution_count": 75,
   "metadata": {},
   "outputs": [
    {
     "data": {
      "text/plain": [
       "array([13, 66,  0, 53,  9, 18, 33, 52, 29, 51, 51, 51, 57,  0, 53, 53,  7,\n",
       "       52, 50,  0, 49, 30, 68, 30, 18, 73, 52,  0, 33, 18, 52,  0, 68, 68,\n",
       "       52,  0, 68, 30,  5, 18, 81, 52, 18, 15, 18, 33,  7, 52, 23, 40, 66,\n",
       "        0, 53, 53,  7, 52, 50,  0, 49, 30, 68,  7, 52, 30, 73, 52, 23, 40,\n",
       "       66,  0, 53, 53,  7, 52, 30, 40, 52, 30,  9, 73, 52, 76, 61, 40, 51,\n",
       "       61,  0,  7, 71, 51, 51, 48, 15, 18, 33,  7,  9, 66, 30, 40])"
      ]
     },
     "execution_count": 75,
     "metadata": {},
     "output_type": "execute_result"
    }
   ],
   "source": [
    "encoded[:100]"
   ]
  },
  {
   "cell_type": "markdown",
   "metadata": {},
   "source": [
    "## Pre-processing the data\n",
    "\n",
    "As you can see in our char-RNN image above, our LSTM expects an input that is **one-hot encoded** meaning that each character is converted into an integer (via our created dictionary) and *then* converted into a column vector where only it's corresponding integer index will have the value of 1 and the rest of the vector will be filled with 0's. Since we're one-hot encoding the data, let's make a function to do that!\n"
   ]
  },
  {
   "cell_type": "code",
   "execution_count": 76,
   "metadata": {},
   "outputs": [],
   "source": [
    "def one_hot_encode(arr, n_labels):\n",
    "    \n",
    "    # Initialize the the encoded array\n",
    "    one_hot = np.zeros((np.multiply(*arr.shape), n_labels), dtype=np.float32)\n",
    "    \n",
    "    # Fill the appropriate elements with ones\n",
    "    one_hot[np.arange(one_hot.shape[0]), arr.flatten()] = 1.\n",
    "    \n",
    "    # Finally reshape it to get back to the original array\n",
    "    one_hot = one_hot.reshape((*arr.shape, n_labels))\n",
    "    \n",
    "    return one_hot"
   ]
  },
  {
   "cell_type": "code",
   "execution_count": 77,
   "metadata": {},
   "outputs": [
    {
     "name": "stdout",
     "output_type": "stream",
     "text": [
      "[[[0. 0. 0. 1. 0. 0. 0. 0.]\n",
      "  [0. 0. 0. 0. 0. 1. 0. 0.]\n",
      "  [0. 1. 0. 0. 0. 0. 0. 0.]]]\n"
     ]
    }
   ],
   "source": [
    "# check that the function works as expected\n",
    "test_seq = np.array([[3, 5, 1]])\n",
    "one_hot = one_hot_encode(test_seq, 8)\n",
    "\n",
    "print(one_hot)"
   ]
  },
  {
   "cell_type": "code",
   "execution_count": 78,
   "metadata": {},
   "outputs": [
    {
     "name": "stdout",
     "output_type": "stream",
     "text": [
      "[[3 5 1]]\n",
      "(1, 3)\n"
     ]
    },
    {
     "data": {
      "text/plain": [
       "3"
      ]
     },
     "execution_count": 78,
     "metadata": {},
     "output_type": "execute_result"
    }
   ],
   "source": [
    "print(test_seq)\n",
    "print(test_seq.shape)\n",
    "np.multiply(*test_seq.shape)"
   ]
  },
  {
   "cell_type": "markdown",
   "metadata": {},
   "source": [
    "## Making training mini-batches\n",
    "\n",
    "\n",
    "To train on this data, we also want to create mini-batches for training. Remember that we want our batches to be multiple sequences of some desired number of sequence steps. Considering a simple example, our batches would look like this:\n",
    "\n",
    "<img src=\"assets/sequence_batching@1x.png\" width=500px>\n",
    "\n",
    "\n",
    "<br>\n",
    "\n",
    "In this example, we'll take the encoded characters (passed in as the `arr` parameter) and split them into multiple sequences, given by `batch_size`. Each of our sequences will be `seq_length` long.\n",
    "\n",
    "### Creating Batches\n",
    "\n",
    "**1. The first thing we need to do is discard some of the text so we only have completely full mini-batches. **\n",
    "\n",
    "Each batch contains $N \\times M$ characters, where $N$ is the batch size (the number of sequences in a batch) and $M$ is the seq_length or number of time steps in a sequence. Then, to get the total number of batches, $K$, that we can make from the array `arr`, you divide the length of `arr` by the number of characters per batch. Once you know the number of batches, you can get the total number of characters to keep from `arr`, $N * M * K$.\n",
    "\n",
    "**2. After that, we need to split `arr` into $N$ batches. ** \n",
    "\n",
    "You can do this using `arr.reshape(size)` where `size` is a tuple containing the dimensions sizes of the reshaped array. We know we want $N$ sequences in a batch, so let's make that the size of the first dimension. For the second dimension, you can use `-1` as a placeholder in the size, it'll fill up the array with the appropriate data for you. After this, you should have an array that is $N \\times (M * K)$.\n",
    "\n",
    "**3. Now that we have this array, we can iterate through it to get our mini-batches. **\n",
    "\n",
    "The idea is each batch is a $N \\times M$ window on the $N \\times (M * K)$ array. For each subsequent batch, the window moves over by `seq_length`. We also want to create both the input and target arrays. Remember that the targets are just the inputs shifted over by one character. The way I like to do this window is use `range` to take steps of size `n_steps` from $0$ to `arr.shape[1]`, the total number of tokens in each sequence. That way, the integers you get from `range` always point to the start of a batch, and each window is `seq_length` wide.\n",
    "\n",
    "> **TODO:** Write the code for creating batches in the function below. The exercises in this notebook _will not be easy_. I've provided a notebook with solutions alongside this notebook. If you get stuck, checkout the solutions. The most important thing is that you don't copy and paste the code into here, **type out the solution code yourself.**"
   ]
  },
  {
   "cell_type": "code",
   "execution_count": 79,
   "metadata": {},
   "outputs": [],
   "source": [
    "def get_batches(arr, batch_size, seq_length):\n",
    "    '''Create a generator that returns batches of size\n",
    "       batch_size x seq_length from arr.\n",
    "       \n",
    "       Arguments\n",
    "       ---------\n",
    "       arr: Array you want to make batches from\n",
    "       batch_size: Batch size, the number of sequences per batch\n",
    "       seq_length: Number of encoded chars in a sequence\n",
    "    '''\n",
    "    full_batch_size = batch_size * seq_length\n",
    "    ## TODO: Get the number of batches we can make\n",
    "    n_batches = len(arr)//full_batch_size\n",
    "    \n",
    "    ## TODO: Keep only enough characters to make full batches\n",
    "    arr = arr[:n_batches*full_batch_size]\n",
    "    \n",
    "    ## TODO: Reshape into batch_size rows\n",
    "    arr = arr.reshape(batch_size, -1)\n",
    "    \n",
    "    ## TODO: Iterate over the batches using a window of size seq_length\n",
    "    for n in range(0, arr.shape[1], seq_length):\n",
    "        # The features\n",
    "        x = arr[:, n:n+seq_length]\n",
    "        # The targets, shifted by one\n",
    "        y = np.zeros_like(x)\n",
    "        try:\n",
    "            y[:, :-1], y[:, -1] = x[:, 1:], arr[:, n+seq_length]\n",
    "        except IndexError:\n",
    "            y[:, :-1], y[:, -1] = x[:, 1:], arr[:, 0]\n",
    "        yield x, y"
   ]
  },
  {
   "cell_type": "code",
   "execution_count": 80,
   "metadata": {},
   "outputs": [
    {
     "data": {
      "text/plain": [
       "array([[1, 2, 3],\n",
       "       [7, 8, 9]])"
      ]
     },
     "execution_count": 80,
     "metadata": {},
     "output_type": "execute_result"
    }
   ],
   "source": [
    "a = np.arange(12)\n",
    "b = get_batches(a, 2, 3)\n",
    "c, d = next(b)\n",
    "c = one_hot_encode(c, 12)\n",
    "d"
   ]
  },
  {
   "cell_type": "markdown",
   "metadata": {},
   "source": [
    "### Test Your Implementation\n",
    "\n",
    "Now I'll make some data sets and we can check out what's going on as we batch data. Here, as an example, I'm going to use a batch size of 8 and 50 sequence steps."
   ]
  },
  {
   "cell_type": "code",
   "execution_count": 81,
   "metadata": {},
   "outputs": [
    {
     "name": "stdout",
     "output_type": "stream",
     "text": [
      "1\n",
      "2\n",
      "3\n"
     ]
    }
   ],
   "source": [
    "def get_primes(number):\n",
    "    while True:\n",
    "        yield number\n",
    "        number += 1\n",
    "gen = get_primes(1)\n",
    "print(next(gen))\n",
    "print(next(gen))\n",
    "print(next(gen))"
   ]
  },
  {
   "cell_type": "code",
   "execution_count": 82,
   "metadata": {},
   "outputs": [],
   "source": [
    "batches = get_batches(encoded, 8, 50)\n",
    "x, y = next(batches)"
   ]
  },
  {
   "cell_type": "code",
   "execution_count": 83,
   "metadata": {},
   "outputs": [
    {
     "name": "stdout",
     "output_type": "stream",
     "text": [
      "x\n",
      " [[13 66  0 53  9 18 33 52 29 51]\n",
      " [73 76 40 52  9 66  0  9 52  0]\n",
      " [18 40 37 52 76 33 52  0 52 50]\n",
      " [73 52  9 66 18 52 43 66 30 18]\n",
      " [52 73  0 61 52 66 18 33 52  9]\n",
      " [43 23 73 73 30 76 40 52  0 40]\n",
      " [52 35 40 40  0 52 66  0 37 52]\n",
      " [72  3 68 76 40 73  5  7 71 52]]\n",
      "\n",
      "y\n",
      " [[66  0 53  9 18 33 52 29 51 51]\n",
      " [76 40 52  9 66  0  9 52  0  9]\n",
      " [40 37 52 76 33 52  0 52 50 76]\n",
      " [52  9 66 18 52 43 66 30 18 50]\n",
      " [73  0 61 52 66 18 33 52  9 18]\n",
      " [23 73 73 30 76 40 52  0 40 37]\n",
      " [35 40 40  0 52 66  0 37 52 73]\n",
      " [ 3 68 76 40 73  5  7 71 52 22]]\n"
     ]
    }
   ],
   "source": [
    "# printing out the first 10 items in a sequence\n",
    "print('x\\n', x[:10, :10])\n",
    "print('\\ny\\n', y[:10, :10])"
   ]
  },
  {
   "cell_type": "markdown",
   "metadata": {},
   "source": [
    "If you implemented `get_batches` correctly, the above output should look something like \n",
    "```\n",
    "x\n",
    " [[25  8 60 11 45 27 28 73  1  2]\n",
    " [17  7 20 73 45  8 60 45 73 60]\n",
    " [27 20 80 73  7 28 73 60 73 65]\n",
    " [17 73 45  8 27 73 66  8 46 27]\n",
    " [73 17 60 12 73  8 27 28 73 45]\n",
    " [66 64 17 17 46  7 20 73 60 20]\n",
    " [73 76 20 20 60 73  8 60 80 73]\n",
    " [47 35 43  7 20 17 24 50 37 73]]\n",
    "\n",
    "y\n",
    " [[ 8 60 11 45 27 28 73  1  2  2]\n",
    " [ 7 20 73 45  8 60 45 73 60 45]\n",
    " [20 80 73  7 28 73 60 73 65  7]\n",
    " [73 45  8 27 73 66  8 46 27 65]\n",
    " [17 60 12 73  8 27 28 73 45 27]\n",
    " [64 17 17 46  7 20 73 60 20 80]\n",
    " [76 20 20 60 73  8 60 80 73 17]\n",
    " [35 43  7 20 17 24 50 37 73 36]]\n",
    " ```\n",
    " although the exact numbers may be different. Check to make sure the data is shifted over one step for `y`."
   ]
  },
  {
   "cell_type": "markdown",
   "metadata": {},
   "source": [
    "---\n",
    "## Defining the network with PyTorch\n",
    "\n",
    "Below is where you'll define the network.\n",
    "\n",
    "<img src=\"assets/charRNN.png\" width=500px>\n",
    "\n",
    "Next, you'll use PyTorch to define the architecture of the network. We start by defining the layers and operations we want. Then, define a method for the forward pass. You've also been given a method for predicting characters."
   ]
  },
  {
   "cell_type": "markdown",
   "metadata": {},
   "source": [
    "### Model Structure\n",
    "\n",
    "In `__init__` the suggested structure is as follows:\n",
    "* Create and store the necessary dictionaries (this has been done for you)\n",
    "* Define an LSTM layer that takes as params: an input size (the number of characters), a hidden layer size `n_hidden`, a number of layers `n_layers`, a dropout probability `drop_prob`, and a batch_first boolean (True, since we are batching)\n",
    "* Define a dropout layer with `dropout_prob`\n",
    "* Define a fully-connected layer with params: input size `n_hidden` and output size (the number of characters)\n",
    "* Finally, initialize the weights (again, this has been given)\n",
    "\n",
    "Note that some parameters have been named and given in the `__init__` function, and we use them and store them by doing something like `self.drop_prob = drop_prob`."
   ]
  },
  {
   "cell_type": "markdown",
   "metadata": {},
   "source": [
    "---\n",
    "### LSTM Inputs/Outputs\n",
    "\n",
    "You can create a basic [LSTM layer](https://pytorch.org/docs/stable/nn.html#lstm) as follows\n",
    "\n",
    "```python\n",
    "self.lstm = nn.LSTM(input_size, n_hidden, n_layers, \n",
    "                            dropout=drop_prob, batch_first=True)\n",
    "```\n",
    "\n",
    "where `input_size` is the number of characters this cell expects to see as sequential input, and `n_hidden` is the number of units in the hidden layers in the cell. And we can add dropout by adding a dropout parameter with a specified probability; this will automatically add dropout to the inputs or outputs. Finally, in the `forward` function, we can stack up the LSTM cells into layers using `.view`. With this, you pass in a list of cells and it will send the output of one cell into the next cell.\n",
    "\n",
    "We also need to create an initial hidden state of all zeros. This is done like so\n",
    "\n",
    "```python\n",
    "self.init_hidden()\n",
    "```"
   ]
  },
  {
   "cell_type": "code",
   "execution_count": 84,
   "metadata": {},
   "outputs": [
    {
     "name": "stdout",
     "output_type": "stream",
     "text": [
      "Training on GPU!\n"
     ]
    }
   ],
   "source": [
    "# check if GPU is available\n",
    "train_on_gpu = torch.cuda.is_available()\n",
    "if(train_on_gpu):\n",
    "    print('Training on GPU!')\n",
    "else: \n",
    "    print('No GPU available, training on CPU; consider making n_epochs very small.')"
   ]
  },
  {
   "cell_type": "code",
   "execution_count": 85,
   "metadata": {},
   "outputs": [
    {
     "data": {
      "text/plain": [
       "array([[ 1.22464680e-16],\n",
       "       [-3.42020143e-01],\n",
       "       [-6.42787610e-01],\n",
       "       [-8.66025404e-01],\n",
       "       [-9.84807753e-01],\n",
       "       [-9.84807753e-01],\n",
       "       [-8.66025404e-01],\n",
       "       [-6.42787610e-01],\n",
       "       [-3.42020143e-01],\n",
       "       [-2.44929360e-16]])"
      ]
     },
     "execution_count": 85,
     "metadata": {},
     "output_type": "execute_result"
    }
   ],
   "source": [
    "time_steps = np.linspace(1 * np.pi, 2*np.pi, 9 + 1)\n",
    "data = np.sin(time_steps)\n",
    "data.resize((9 + 1, 1)) # input_size=1\n",
    "data"
   ]
  },
  {
   "cell_type": "code",
   "execution_count": 86,
   "metadata": {},
   "outputs": [],
   "source": [
    "class CharRNN(nn.Module):\n",
    "    \n",
    "    def __init__(self, tokens, n_hidden=256, n_layers=2,\n",
    "                               drop_prob=0.5, lr=0.001):\n",
    "        super().__init__()\n",
    "        self.drop_prob = drop_prob\n",
    "        self.n_layers = n_layers\n",
    "        self.n_hidden = n_hidden\n",
    "        self.lr = lr\n",
    "        \n",
    "        # creating character dictionaries\n",
    "        self.chars = tokens\n",
    "        self.int2char = dict(enumerate(self.chars))\n",
    "        self.char2int = {ch: ii for ii, ch in self.int2char.items()}\n",
    "        \n",
    "        ## TODO: define the layers of the model\n",
    "        # define the LSTM layer:\n",
    "        self.lstm = nn.LSTM(len(self.chars), n_hidden, n_layers, dropout=drop_prob, batch_first=True)\n",
    "        \n",
    "        # define a dropout layer:\n",
    "        self.dropout = nn.Dropout(self.drop_prob)\n",
    "        \n",
    "        #define the final fully connected layer:\n",
    "        self.fc = nn.Linear(n_hidden, len(self.chars))\n",
    "        \n",
    "    def forward(self, x, hidden):\n",
    "        ''' Forward pass through the network. \n",
    "            These inputs are x, and the hidden/cell state `hidden`. '''\n",
    "                \n",
    "        ## TODO: Get the outputs and the new hidden state from the lstm\n",
    "        r_output, hidden = self.lstm(x, hidden)\n",
    "        \n",
    "        ## TODO: pass through a dropout layer\n",
    "        out = self.dropout(r_output)\n",
    "        \n",
    "        # Stack up LSTM outputs using view\n",
    "        # you may need to use contiguous to reshape the output\n",
    "        out = out.contiguous().view(-1, self.n_hidden)\n",
    "        \n",
    "        # put x through the fully-connected layer\n",
    "        out = self.fc(out)\n",
    "        \n",
    "        # return the final output and the hidden state\n",
    "        return out, hidden\n",
    "    \n",
    "    \n",
    "    def init_hidden(self, batch_size):\n",
    "        ''' Initializes hidden state '''\n",
    "        # Create two new tensors with sizes n_layers x batch_size x n_hidden,\n",
    "        # initialized to zero, for hidden state and cell state of LSTM\n",
    "        weight = next(self.parameters()).data\n",
    "        \n",
    "        if (train_on_gpu):\n",
    "            hidden = (weight.new(self.n_layers, batch_size, self.n_hidden).zero_().cuda(),\n",
    "                  weight.new(self.n_layers, batch_size, self.n_hidden).zero_().cuda())\n",
    "        else:\n",
    "            hidden = (weight.new(self.n_layers, batch_size, self.n_hidden).zero_(),\n",
    "                      weight.new(self.n_layers, batch_size, self.n_hidden).zero_())\n",
    "        \n",
    "        return hidden\n",
    "        "
   ]
  },
  {
   "cell_type": "markdown",
   "metadata": {},
   "source": [
    "## Time to train\n",
    "\n",
    "The train function gives us the ability to set the number of epochs, the learning rate, and other parameters.\n",
    "\n",
    "Below we're using an Adam optimizer and cross entropy loss since we are looking at character class scores as output. We calculate the loss and perform backpropagation, as usual!\n",
    "\n",
    "A couple of details about training: \n",
    ">* Within the batch loop, we detach the hidden state from its history; this time setting it equal to a new *tuple* variable because an LSTM has a hidden state that is a tuple of the hidden and cell states.\n",
    "* We use [`clip_grad_norm_`](https://pytorch.org/docs/stable/_modules/torch/nn/utils/clip_grad.html) to help prevent exploding gradients."
   ]
  },
  {
   "cell_type": "code",
   "execution_count": 87,
   "metadata": {},
   "outputs": [],
   "source": [
    "def train(net, data, epochs=10, batch_size=10, seq_length=50, lr=0.001, clip=5, val_frac=0.1, print_every=10):\n",
    "    ''' Training a network \n",
    "    \n",
    "        Arguments\n",
    "        ---------\n",
    "        \n",
    "        net: CharRNN network\n",
    "        data: text data to train the network\n",
    "        epochs: Number of epochs to train\n",
    "        batch_size: Number of mini-sequences per mini-batch, aka batch size\n",
    "        seq_length: Number of character steps per mini-batch\n",
    "        lr: learning rate\n",
    "        clip: gradient clipping\n",
    "        val_frac: Fraction of data to hold out for validation\n",
    "        print_every: Number of steps for printing training and validation loss\n",
    "    \n",
    "    '''\n",
    "    net.train()\n",
    "    \n",
    "    opt = torch.optim.Adam(net.parameters(), lr=lr)\n",
    "    criterion = nn.CrossEntropyLoss()\n",
    "    \n",
    "    # create training and validation data\n",
    "    val_idx = int(len(data)*(1-val_frac))\n",
    "    data, val_data = data[:val_idx], data[val_idx:]\n",
    "    \n",
    "    if(train_on_gpu):\n",
    "        net.cuda()\n",
    "    \n",
    "    counter = 0\n",
    "    n_chars = len(net.chars)\n",
    "    for e in range(epochs):\n",
    "        # initialize hidden state\n",
    "        h = net.init_hidden(batch_size)\n",
    "        \n",
    "        for x, y in get_batches(data, batch_size, seq_length):\n",
    "            counter += 1\n",
    "            \n",
    "            # One-hot encode our data and make them Torch tensors\n",
    "            x = one_hot_encode(x, n_chars)\n",
    "            inputs, targets = torch.from_numpy(x), torch.from_numpy(y).long()\n",
    "            \n",
    "            if(train_on_gpu):\n",
    "                inputs, targets = inputs.cuda(), targets.cuda()\n",
    "\n",
    "            # Creating new variables for the hidden state, otherwise\n",
    "            # we'd backprop through the entire training history\n",
    "            h = tuple([each.data for each in h])\n",
    "\n",
    "            # zero accumulated gradients\n",
    "            net.zero_grad()\n",
    "            \n",
    "            # get the output from the model\n",
    "            output, h = net(inputs, h)\n",
    "            \n",
    "            # calculate the loss and perform backprop\n",
    "            loss = criterion(output, targets.view(batch_size*seq_length))\n",
    "            loss.backward()\n",
    "            # `clip_grad_norm` helps prevent the exploding gradient problem in RNNs / LSTMs.\n",
    "            nn.utils.clip_grad_norm_(net.parameters(), clip)\n",
    "            opt.step()\n",
    "            \n",
    "            # loss stats\n",
    "            if counter % print_every == 0:\n",
    "                # Get validation loss\n",
    "                val_h = net.init_hidden(batch_size)\n",
    "                val_losses = []\n",
    "                net.eval()\n",
    "                for x, y in get_batches(val_data, batch_size, seq_length):\n",
    "                    # One-hot encode our data and make them Torch tensors\n",
    "                    x = one_hot_encode(x, n_chars)\n",
    "                    x, y = torch.from_numpy(x), torch.from_numpy(y).long()\n",
    "                    \n",
    "                    # Creating new variables for the hidden state, otherwise\n",
    "                    # we'd backprop through the entire training history\n",
    "                    val_h = tuple([each.data for each in val_h])\n",
    "                    \n",
    "                    inputs, targets = x, y\n",
    "                    if(train_on_gpu):\n",
    "                        inputs, targets = inputs.cuda(), targets.cuda()\n",
    "\n",
    "                    output, val_h = net(inputs, val_h)\n",
    "                    val_loss = criterion(output, targets.view(batch_size*seq_length))\n",
    "                \n",
    "                    val_losses.append(val_loss.item())\n",
    "                \n",
    "                net.train() # reset to train mode after iterationg through validation data\n",
    "                \n",
    "                print(\"Epoch: {}/{}...\".format(e+1, epochs),\n",
    "                      \"Step: {}...\".format(counter),\n",
    "                      \"Loss: {:.4f}...\".format(loss.item()),\n",
    "                      \"Val Loss: {:.4f}\".format(np.mean(val_losses)))"
   ]
  },
  {
   "cell_type": "markdown",
   "metadata": {},
   "source": [
    "## Instantiating the model\n",
    "\n",
    "Now we can actually train the network. First we'll create the network itself, with some given hyperparameters. Then, define the mini-batches sizes, and start training!"
   ]
  },
  {
   "cell_type": "code",
   "execution_count": 88,
   "metadata": {},
   "outputs": [
    {
     "name": "stdout",
     "output_type": "stream",
     "text": [
      "CharRNN(\n",
      "  (lstm): LSTM(83, 512, num_layers=2, batch_first=True, dropout=0.5)\n",
      "  (dropout): Dropout(p=0.5)\n",
      "  (fc): Linear(in_features=512, out_features=83, bias=True)\n",
      ")\n"
     ]
    }
   ],
   "source": [
    "## TODO: set you model hyperparameters\n",
    "# define and print the net\n",
    "n_hidden= 512\n",
    "n_layers= 2\n",
    "\n",
    "net = CharRNN(chars, n_hidden, n_layers)\n",
    "print(net)"
   ]
  },
  {
   "cell_type": "markdown",
   "metadata": {},
   "source": [
    "### Set your training hyperparameters!"
   ]
  },
  {
   "cell_type": "code",
   "execution_count": 100,
   "metadata": {
    "scrolled": true
   },
   "outputs": [
    {
     "name": "stdout",
     "output_type": "stream",
     "text": [
      "Epoch: 1/15... Step: 10... Loss: 1.7038... Val Loss: 1.6672\n",
      "Epoch: 1/15... Step: 20... Loss: 1.6954... Val Loss: 1.6373\n",
      "Epoch: 1/15... Step: 30... Loss: 1.6739... Val Loss: 1.6225\n",
      "Epoch: 1/15... Step: 40... Loss: 1.6313... Val Loss: 1.6190\n",
      "Epoch: 1/15... Step: 50... Loss: 1.6648... Val Loss: 1.6101\n",
      "Epoch: 1/15... Step: 60... Loss: 1.5822... Val Loss: 1.6088\n",
      "Epoch: 1/15... Step: 70... Loss: 1.6090... Val Loss: 1.6049\n",
      "Epoch: 1/15... Step: 80... Loss: 1.5990... Val Loss: 1.5993\n",
      "Epoch: 1/15... Step: 90... Loss: 1.6114... Val Loss: 1.5904\n",
      "Epoch: 1/15... Step: 100... Loss: 1.5928... Val Loss: 1.5899\n",
      "Epoch: 1/15... Step: 110... Loss: 1.5771... Val Loss: 1.5853\n",
      "Epoch: 1/15... Step: 120... Loss: 1.5613... Val Loss: 1.5781\n",
      "Epoch: 1/15... Step: 130... Loss: 1.6104... Val Loss: 1.5740\n",
      "Epoch: 2/15... Step: 140... Loss: 1.6243... Val Loss: 1.5697\n",
      "Epoch: 2/15... Step: 150... Loss: 1.5968... Val Loss: 1.5637\n",
      "Epoch: 2/15... Step: 160... Loss: 1.6054... Val Loss: 1.5568\n",
      "Epoch: 2/15... Step: 170... Loss: 1.6038... Val Loss: 1.5560\n",
      "Epoch: 2/15... Step: 180... Loss: 1.5545... Val Loss: 1.5490\n",
      "Epoch: 2/15... Step: 190... Loss: 1.5114... Val Loss: 1.5478\n",
      "Epoch: 2/15... Step: 200... Loss: 1.5092... Val Loss: 1.5441\n",
      "Epoch: 2/15... Step: 210... Loss: 1.5499... Val Loss: 1.5427\n",
      "Epoch: 2/15... Step: 220... Loss: 1.5273... Val Loss: 1.5347\n",
      "Epoch: 2/15... Step: 230... Loss: 1.5360... Val Loss: 1.5291\n",
      "Epoch: 2/15... Step: 240... Loss: 1.5444... Val Loss: 1.5266\n",
      "Epoch: 2/15... Step: 250... Loss: 1.5195... Val Loss: 1.5262\n",
      "Epoch: 2/15... Step: 260... Loss: 1.4913... Val Loss: 1.5191\n",
      "Epoch: 2/15... Step: 270... Loss: 1.5428... Val Loss: 1.5180\n",
      "Epoch: 3/15... Step: 280... Loss: 1.5159... Val Loss: 1.5105\n",
      "Epoch: 3/15... Step: 290... Loss: 1.5286... Val Loss: 1.5067\n",
      "Epoch: 3/15... Step: 300... Loss: 1.5027... Val Loss: 1.5055\n",
      "Epoch: 3/15... Step: 310... Loss: 1.4970... Val Loss: 1.5016\n",
      "Epoch: 3/15... Step: 320... Loss: 1.4643... Val Loss: 1.4945\n",
      "Epoch: 3/15... Step: 330... Loss: 1.4861... Val Loss: 1.4924\n",
      "Epoch: 3/15... Step: 340... Loss: 1.5136... Val Loss: 1.4858\n",
      "Epoch: 3/15... Step: 350... Loss: 1.4862... Val Loss: 1.4878\n",
      "Epoch: 3/15... Step: 360... Loss: 1.4501... Val Loss: 1.4866\n",
      "Epoch: 3/15... Step: 370... Loss: 1.4758... Val Loss: 1.4788\n",
      "Epoch: 3/15... Step: 380... Loss: 1.4871... Val Loss: 1.4741\n",
      "Epoch: 3/15... Step: 390... Loss: 1.4575... Val Loss: 1.4747\n",
      "Epoch: 3/15... Step: 400... Loss: 1.4513... Val Loss: 1.4667\n",
      "Epoch: 3/15... Step: 410... Loss: 1.4661... Val Loss: 1.4692\n",
      "Epoch: 4/15... Step: 420... Loss: 1.4691... Val Loss: 1.4615\n",
      "Epoch: 4/15... Step: 430... Loss: 1.4659... Val Loss: 1.4595\n",
      "Epoch: 4/15... Step: 440... Loss: 1.4627... Val Loss: 1.4520\n",
      "Epoch: 4/15... Step: 450... Loss: 1.4210... Val Loss: 1.4485\n",
      "Epoch: 4/15... Step: 460... Loss: 1.3949... Val Loss: 1.4524\n",
      "Epoch: 4/15... Step: 470... Loss: 1.4585... Val Loss: 1.4481\n",
      "Epoch: 4/15... Step: 480... Loss: 1.4528... Val Loss: 1.4447\n",
      "Epoch: 4/15... Step: 490... Loss: 1.4460... Val Loss: 1.4494\n",
      "Epoch: 4/15... Step: 500... Loss: 1.4539... Val Loss: 1.4469\n",
      "Epoch: 4/15... Step: 510... Loss: 1.4384... Val Loss: 1.4347\n",
      "Epoch: 4/15... Step: 520... Loss: 1.4451... Val Loss: 1.4353\n",
      "Epoch: 4/15... Step: 530... Loss: 1.4299... Val Loss: 1.4349\n",
      "Epoch: 4/15... Step: 540... Loss: 1.3892... Val Loss: 1.4304\n",
      "Epoch: 4/15... Step: 550... Loss: 1.4605... Val Loss: 1.4299\n",
      "Epoch: 5/15... Step: 560... Loss: 1.4173... Val Loss: 1.4242\n",
      "Epoch: 5/15... Step: 570... Loss: 1.4130... Val Loss: 1.4227\n",
      "Epoch: 5/15... Step: 580... Loss: 1.4063... Val Loss: 1.4210\n",
      "Epoch: 5/15... Step: 590... Loss: 1.3940... Val Loss: 1.4216\n",
      "Epoch: 5/15... Step: 600... Loss: 1.3900... Val Loss: 1.4210\n",
      "Epoch: 5/15... Step: 610... Loss: 1.3784... Val Loss: 1.4155\n",
      "Epoch: 5/15... Step: 620... Loss: 1.4001... Val Loss: 1.4168\n",
      "Epoch: 5/15... Step: 630... Loss: 1.4193... Val Loss: 1.4164\n",
      "Epoch: 5/15... Step: 640... Loss: 1.3874... Val Loss: 1.4121\n",
      "Epoch: 5/15... Step: 650... Loss: 1.3969... Val Loss: 1.4060\n",
      "Epoch: 5/15... Step: 660... Loss: 1.3817... Val Loss: 1.4073\n",
      "Epoch: 5/15... Step: 670... Loss: 1.3902... Val Loss: 1.4037\n",
      "Epoch: 5/15... Step: 680... Loss: 1.3934... Val Loss: 1.3993\n",
      "Epoch: 5/15... Step: 690... Loss: 1.3792... Val Loss: 1.4022\n",
      "Epoch: 6/15... Step: 700... Loss: 1.3890... Val Loss: 1.4015\n",
      "Epoch: 6/15... Step: 710... Loss: 1.3678... Val Loss: 1.4011\n",
      "Epoch: 6/15... Step: 720... Loss: 1.3670... Val Loss: 1.3958\n",
      "Epoch: 6/15... Step: 730... Loss: 1.3841... Val Loss: 1.3963\n",
      "Epoch: 6/15... Step: 740... Loss: 1.3496... Val Loss: 1.3996\n",
      "Epoch: 6/15... Step: 750... Loss: 1.3543... Val Loss: 1.3893\n",
      "Epoch: 6/15... Step: 760... Loss: 1.3846... Val Loss: 1.3926\n",
      "Epoch: 6/15... Step: 770... Loss: 1.3436... Val Loss: 1.3899\n",
      "Epoch: 6/15... Step: 780... Loss: 1.3515... Val Loss: 1.3891\n",
      "Epoch: 6/15... Step: 790... Loss: 1.3507... Val Loss: 1.3831\n",
      "Epoch: 6/15... Step: 800... Loss: 1.3675... Val Loss: 1.3837\n",
      "Epoch: 6/15... Step: 810... Loss: 1.3452... Val Loss: 1.3763\n",
      "Epoch: 6/15... Step: 820... Loss: 1.3207... Val Loss: 1.3781\n",
      "Epoch: 6/15... Step: 830... Loss: 1.3616... Val Loss: 1.3781\n",
      "Epoch: 7/15... Step: 840... Loss: 1.3224... Val Loss: 1.3762\n",
      "Epoch: 7/15... Step: 850... Loss: 1.3420... Val Loss: 1.3780\n",
      "Epoch: 7/15... Step: 860... Loss: 1.3262... Val Loss: 1.3726\n",
      "Epoch: 7/15... Step: 870... Loss: 1.3295... Val Loss: 1.3731\n",
      "Epoch: 7/15... Step: 880... Loss: 1.3447... Val Loss: 1.3740\n",
      "Epoch: 7/15... Step: 890... Loss: 1.3433... Val Loss: 1.3683\n",
      "Epoch: 7/15... Step: 900... Loss: 1.3364... Val Loss: 1.3737\n",
      "Epoch: 7/15... Step: 910... Loss: 1.3039... Val Loss: 1.3707\n",
      "Epoch: 7/15... Step: 920... Loss: 1.3329... Val Loss: 1.3671\n",
      "Epoch: 7/15... Step: 930... Loss: 1.3192... Val Loss: 1.3609\n",
      "Epoch: 7/15... Step: 940... Loss: 1.3240... Val Loss: 1.3639\n",
      "Epoch: 7/15... Step: 950... Loss: 1.3371... Val Loss: 1.3580\n",
      "Epoch: 7/15... Step: 960... Loss: 1.3324... Val Loss: 1.3589\n",
      "Epoch: 7/15... Step: 970... Loss: 1.3416... Val Loss: 1.3590\n",
      "Epoch: 8/15... Step: 980... Loss: 1.3089... Val Loss: 1.3627\n",
      "Epoch: 8/15... Step: 990... Loss: 1.3137... Val Loss: 1.3605\n",
      "Epoch: 8/15... Step: 1000... Loss: 1.3106... Val Loss: 1.3551\n",
      "Epoch: 8/15... Step: 1010... Loss: 1.3408... Val Loss: 1.3570\n",
      "Epoch: 8/15... Step: 1020... Loss: 1.3290... Val Loss: 1.3550\n",
      "Epoch: 8/15... Step: 1030... Loss: 1.3103... Val Loss: 1.3499\n",
      "Epoch: 8/15... Step: 1040... Loss: 1.3282... Val Loss: 1.3523\n",
      "Epoch: 8/15... Step: 1050... Loss: 1.3089... Val Loss: 1.3513\n",
      "Epoch: 8/15... Step: 1060... Loss: 1.3000... Val Loss: 1.3486\n",
      "Epoch: 8/15... Step: 1070... Loss: 1.3168... Val Loss: 1.3468\n",
      "Epoch: 8/15... Step: 1080... Loss: 1.3055... Val Loss: 1.3491\n",
      "Epoch: 8/15... Step: 1090... Loss: 1.3034... Val Loss: 1.3487\n",
      "Epoch: 8/15... Step: 1100... Loss: 1.2949... Val Loss: 1.3427\n",
      "Epoch: 8/15... Step: 1110... Loss: 1.2886... Val Loss: 1.3431\n",
      "Epoch: 9/15... Step: 1120... Loss: 1.3028... Val Loss: 1.3467\n",
      "Epoch: 9/15... Step: 1130... Loss: 1.3084... Val Loss: 1.3435\n",
      "Epoch: 9/15... Step: 1140... Loss: 1.3213... Val Loss: 1.3414\n",
      "Epoch: 9/15... Step: 1150... Loss: 1.3258... Val Loss: 1.3427\n",
      "Epoch: 9/15... Step: 1160... Loss: 1.2871... Val Loss: 1.3432\n",
      "Epoch: 9/15... Step: 1170... Loss: 1.2999... Val Loss: 1.3379\n",
      "Epoch: 9/15... Step: 1180... Loss: 1.2882... Val Loss: 1.3420\n",
      "Epoch: 9/15... Step: 1190... Loss: 1.3305... Val Loss: 1.3398\n",
      "Epoch: 9/15... Step: 1200... Loss: 1.2732... Val Loss: 1.3385\n",
      "Epoch: 9/15... Step: 1210... Loss: 1.2749... Val Loss: 1.3348\n",
      "Epoch: 9/15... Step: 1220... Loss: 1.2825... Val Loss: 1.3386\n",
      "Epoch: 9/15... Step: 1230... Loss: 1.2694... Val Loss: 1.3320\n",
      "Epoch: 9/15... Step: 1240... Loss: 1.2689... Val Loss: 1.3281\n",
      "Epoch: 9/15... Step: 1250... Loss: 1.2828... Val Loss: 1.3308\n",
      "Epoch: 10/15... Step: 1260... Loss: 1.2936... Val Loss: 1.3331\n",
      "Epoch: 10/15... Step: 1270... Loss: 1.2838... Val Loss: 1.3279\n",
      "Epoch: 10/15... Step: 1280... Loss: 1.3095... Val Loss: 1.3268\n",
      "Epoch: 10/15... Step: 1290... Loss: 1.2866... Val Loss: 1.3326\n",
      "Epoch: 10/15... Step: 1300... Loss: 1.2825... Val Loss: 1.3302\n",
      "Epoch: 10/15... Step: 1310... Loss: 1.2831... Val Loss: 1.3281\n",
      "Epoch: 10/15... Step: 1320... Loss: 1.2607... Val Loss: 1.3308\n",
      "Epoch: 10/15... Step: 1330... Loss: 1.2599... Val Loss: 1.3286\n",
      "Epoch: 10/15... Step: 1340... Loss: 1.2525... Val Loss: 1.3278\n"
     ]
    },
    {
     "name": "stdout",
     "output_type": "stream",
     "text": [
      "Epoch: 10/15... Step: 1350... Loss: 1.2549... Val Loss: 1.3251\n",
      "Epoch: 10/15... Step: 1360... Loss: 1.2546... Val Loss: 1.3263\n",
      "Epoch: 10/15... Step: 1370... Loss: 1.2526... Val Loss: 1.3229\n",
      "Epoch: 10/15... Step: 1380... Loss: 1.2847... Val Loss: 1.3181\n",
      "Epoch: 10/15... Step: 1390... Loss: 1.2999... Val Loss: 1.3185\n",
      "Epoch: 11/15... Step: 1400... Loss: 1.2885... Val Loss: 1.3186\n",
      "Epoch: 11/15... Step: 1410... Loss: 1.3224... Val Loss: 1.3207\n",
      "Epoch: 11/15... Step: 1420... Loss: 1.3042... Val Loss: 1.3142\n",
      "Epoch: 11/15... Step: 1430... Loss: 1.2749... Val Loss: 1.3197\n",
      "Epoch: 11/15... Step: 1440... Loss: 1.2811... Val Loss: 1.3163\n",
      "Epoch: 11/15... Step: 1450... Loss: 1.2294... Val Loss: 1.3139\n",
      "Epoch: 11/15... Step: 1460... Loss: 1.2520... Val Loss: 1.3103\n",
      "Epoch: 11/15... Step: 1470... Loss: 1.2433... Val Loss: 1.3148\n",
      "Epoch: 11/15... Step: 1480... Loss: 1.2660... Val Loss: 1.3149\n",
      "Epoch: 11/15... Step: 1490... Loss: 1.2513... Val Loss: 1.3138\n",
      "Epoch: 11/15... Step: 1500... Loss: 1.2406... Val Loss: 1.3139\n",
      "Epoch: 11/15... Step: 1510... Loss: 1.2253... Val Loss: 1.3093\n",
      "Epoch: 11/15... Step: 1520... Loss: 1.2547... Val Loss: 1.3057\n",
      "Epoch: 12/15... Step: 1530... Loss: 1.3191... Val Loss: 1.3083\n",
      "Epoch: 12/15... Step: 1540... Loss: 1.2633... Val Loss: 1.3076\n",
      "Epoch: 12/15... Step: 1550... Loss: 1.2680... Val Loss: 1.3049\n",
      "Epoch: 12/15... Step: 1560... Loss: 1.2747... Val Loss: 1.2992\n",
      "Epoch: 12/15... Step: 1570... Loss: 1.2310... Val Loss: 1.3099\n",
      "Epoch: 12/15... Step: 1580... Loss: 1.2256... Val Loss: 1.3079\n",
      "Epoch: 12/15... Step: 1590... Loss: 1.2043... Val Loss: 1.3008\n",
      "Epoch: 12/15... Step: 1600... Loss: 1.2285... Val Loss: 1.2959\n",
      "Epoch: 12/15... Step: 1610... Loss: 1.2308... Val Loss: 1.3001\n",
      "Epoch: 12/15... Step: 1620... Loss: 1.2162... Val Loss: 1.3039\n",
      "Epoch: 12/15... Step: 1630... Loss: 1.2431... Val Loss: 1.2974\n",
      "Epoch: 12/15... Step: 1640... Loss: 1.2216... Val Loss: 1.2962\n",
      "Epoch: 12/15... Step: 1650... Loss: 1.2052... Val Loss: 1.2921\n",
      "Epoch: 12/15... Step: 1660... Loss: 1.2593... Val Loss: 1.2947\n",
      "Epoch: 13/15... Step: 1670... Loss: 1.2148... Val Loss: 1.2925\n",
      "Epoch: 13/15... Step: 1680... Loss: 1.2391... Val Loss: 1.2948\n",
      "Epoch: 13/15... Step: 1690... Loss: 1.2238... Val Loss: 1.2878\n",
      "Epoch: 13/15... Step: 1700... Loss: 1.2170... Val Loss: 1.2860\n",
      "Epoch: 13/15... Step: 1710... Loss: 1.2018... Val Loss: 1.2941\n",
      "Epoch: 13/15... Step: 1720... Loss: 1.2189... Val Loss: 1.2926\n",
      "Epoch: 13/15... Step: 1730... Loss: 1.2541... Val Loss: 1.2900\n",
      "Epoch: 13/15... Step: 1740... Loss: 1.2176... Val Loss: 1.2823\n",
      "Epoch: 13/15... Step: 1750... Loss: 1.1849... Val Loss: 1.2877\n",
      "Epoch: 13/15... Step: 1760... Loss: 1.2226... Val Loss: 1.2894\n",
      "Epoch: 13/15... Step: 1770... Loss: 1.2319... Val Loss: 1.2884\n",
      "Epoch: 13/15... Step: 1780... Loss: 1.1999... Val Loss: 1.2920\n",
      "Epoch: 13/15... Step: 1790... Loss: 1.1994... Val Loss: 1.2826\n",
      "Epoch: 13/15... Step: 1800... Loss: 1.2232... Val Loss: 1.2872\n",
      "Epoch: 14/15... Step: 1810... Loss: 1.2282... Val Loss: 1.2812\n",
      "Epoch: 14/15... Step: 1820... Loss: 1.2116... Val Loss: 1.2800\n",
      "Epoch: 14/15... Step: 1830... Loss: 1.2302... Val Loss: 1.2814\n",
      "Epoch: 14/15... Step: 1840... Loss: 1.1775... Val Loss: 1.2787\n",
      "Epoch: 14/15... Step: 1850... Loss: 1.1703... Val Loss: 1.2844\n",
      "Epoch: 14/15... Step: 1860... Loss: 1.2239... Val Loss: 1.2828\n",
      "Epoch: 14/15... Step: 1870... Loss: 1.2254... Val Loss: 1.2774\n",
      "Epoch: 14/15... Step: 1880... Loss: 1.2143... Val Loss: 1.2725\n",
      "Epoch: 14/15... Step: 1890... Loss: 1.2399... Val Loss: 1.2798\n",
      "Epoch: 14/15... Step: 1900... Loss: 1.2108... Val Loss: 1.2837\n",
      "Epoch: 14/15... Step: 1910... Loss: 1.2018... Val Loss: 1.2794\n",
      "Epoch: 14/15... Step: 1920... Loss: 1.2192... Val Loss: 1.2796\n",
      "Epoch: 14/15... Step: 1930... Loss: 1.1761... Val Loss: 1.2796\n",
      "Epoch: 14/15... Step: 1940... Loss: 1.2385... Val Loss: 1.2702\n",
      "Epoch: 15/15... Step: 1950... Loss: 1.1975... Val Loss: 1.2714\n",
      "Epoch: 15/15... Step: 1960... Loss: 1.2101... Val Loss: 1.2668\n",
      "Epoch: 15/15... Step: 1970... Loss: 1.1857... Val Loss: 1.2706\n",
      "Epoch: 15/15... Step: 1980... Loss: 1.1895... Val Loss: 1.2778\n",
      "Epoch: 15/15... Step: 1990... Loss: 1.1937... Val Loss: 1.2700\n",
      "Epoch: 15/15... Step: 2000... Loss: 1.1773... Val Loss: 1.2709\n",
      "Epoch: 15/15... Step: 2010... Loss: 1.1891... Val Loss: 1.2703\n",
      "Epoch: 15/15... Step: 2020... Loss: 1.2118... Val Loss: 1.2627\n",
      "Epoch: 15/15... Step: 2030... Loss: 1.1760... Val Loss: 1.2699\n",
      "Epoch: 15/15... Step: 2040... Loss: 1.2000... Val Loss: 1.2748\n",
      "Epoch: 15/15... Step: 2050... Loss: 1.1914... Val Loss: 1.2674\n",
      "Epoch: 15/15... Step: 2060... Loss: 1.1958... Val Loss: 1.2726\n",
      "Epoch: 15/15... Step: 2070... Loss: 1.2037... Val Loss: 1.2680\n",
      "Epoch: 15/15... Step: 2080... Loss: 1.1974... Val Loss: 1.2644\n"
     ]
    }
   ],
   "source": [
    "batch_size = 128\n",
    "seq_length = 100\n",
    "n_epochs = 15 # start small if you are just testing initial behavior\n",
    "\n",
    "# train the model\n",
    "train(net, encoded, epochs=n_epochs, batch_size=batch_size, seq_length=seq_length, lr=0.001, print_every=10)"
   ]
  },
  {
   "cell_type": "markdown",
   "metadata": {},
   "source": [
    "## Getting the best model\n",
    "\n",
    "To set your hyperparameters to get the best performance, you'll want to watch the training and validation losses. If your training loss is much lower than the validation loss, you're overfitting. Increase regularization (more dropout) or use a smaller network. If the training and validation losses are close, you're underfitting so you can increase the size of the network."
   ]
  },
  {
   "cell_type": "markdown",
   "metadata": {},
   "source": [
    "## Hyperparameters\n",
    "\n",
    "Here are the hyperparameters for the network.\n",
    "\n",
    "In defining the model:\n",
    "* `n_hidden` - The number of units in the hidden layers.\n",
    "* `n_layers` - Number of hidden LSTM layers to use.\n",
    "\n",
    "We assume that dropout probability and learning rate will be kept at the default, in this example.\n",
    "\n",
    "And in training:\n",
    "* `batch_size` - Number of sequences running through the network in one pass.\n",
    "* `seq_length` - Number of characters in the sequence the network is trained on. Larger is better typically, the network will learn more long range dependencies. But it takes longer to train. 100 is typically a good number here.\n",
    "* `lr` - Learning rate for training\n",
    "\n",
    "Here's some good advice from Andrej Karpathy on training the network. I'm going to copy it in here for your benefit, but also link to [where it originally came from](https://github.com/karpathy/char-rnn#tips-and-tricks).\n",
    "\n",
    "> ## Tips and Tricks\n",
    "\n",
    ">### Monitoring Validation Loss vs. Training Loss\n",
    ">If you're somewhat new to Machine Learning or Neural Networks it can take a bit of expertise to get good models. The most important quantity to keep track of is the difference between your training loss (printed during training) and the validation loss (printed once in a while when the RNN is run on the validation data (by default every 1000 iterations)). In particular:\n",
    "\n",
    "> - If your training loss is much lower than validation loss then this means the network might be **overfitting**. Solutions to this are to decrease your network size, or to increase dropout. For example you could try dropout of 0.5 and so on.\n",
    "> - If your training/validation loss are about equal then your model is **underfitting**. Increase the size of your model (either number of layers or the raw number of neurons per layer)\n",
    "\n",
    "> ### Approximate number of parameters\n",
    "\n",
    "> The two most important parameters that control the model are `n_hidden` and `n_layers`. I would advise that you always use `n_layers` of either 2/3. The `n_hidden` can be adjusted based on how much data you have. The two important quantities to keep track of here are:\n",
    "\n",
    "> - The number of parameters in your model. This is printed when you start training.\n",
    "> - The size of your dataset. 1MB file is approximately 1 million characters.\n",
    "\n",
    ">These two should be about the same order of magnitude. It's a little tricky to tell. Here are some examples:\n",
    "\n",
    "> - I have a 100MB dataset and I'm using the default parameter settings (which currently print 150K parameters). My data size is significantly larger (100 mil >> 0.15 mil), so I expect to heavily underfit. I am thinking I can comfortably afford to make `n_hidden` larger.\n",
    "> - I have a 10MB dataset and running a 10 million parameter model. I'm slightly nervous and I'm carefully monitoring my validation loss. If it's larger than my training loss then I may want to try to increase dropout a bit and see if that helps the validation loss.\n",
    "\n",
    "> ### Best models strategy\n",
    "\n",
    ">The winning strategy to obtaining very good models (if you have the compute time) is to always err on making the network larger (as large as you're willing to wait for it to compute) and then try different dropout values (between 0,1). Whatever model has the best validation performance (the loss, written in the checkpoint filename, low is good) is the one you should use in the end.\n",
    "\n",
    ">It is very common in deep learning to run many different models with many different hyperparameter settings, and in the end take whatever checkpoint gave the best validation performance.\n",
    "\n",
    ">By the way, the size of your training and validation splits are also parameters. Make sure you have a decent amount of data in your validation set or otherwise the validation performance will be noisy and not very informative."
   ]
  },
  {
   "cell_type": "markdown",
   "metadata": {},
   "source": [
    "## Checkpoint\n",
    "\n",
    "After training, we'll save the model so we can load it again later if we need too. Here I'm saving the parameters needed to create the same architecture, the hidden layer hyperparameters and the text characters."
   ]
  },
  {
   "cell_type": "code",
   "execution_count": 101,
   "metadata": {},
   "outputs": [
    {
     "data": {
      "text/plain": [
       "83"
      ]
     },
     "execution_count": 101,
     "metadata": {},
     "output_type": "execute_result"
    }
   ],
   "source": [
    "len(chars)"
   ]
  },
  {
   "cell_type": "code",
   "execution_count": 102,
   "metadata": {},
   "outputs": [
    {
     "data": {
      "text/plain": [
       "OrderedDict([('lstm.weight_ih_l0',\n",
       "              tensor([[-0.1094, -0.0590, -0.2568,  ..., -0.0145, -0.2253, -0.2866],\n",
       "                      [ 0.2243, -0.0103,  0.1833,  ...,  0.1228, -0.0080, -0.1018],\n",
       "                      [ 0.2510,  0.0119,  0.2731,  ..., -0.0127,  0.0899,  0.4692],\n",
       "                      ...,\n",
       "                      [ 0.0387, -0.1449,  0.2602,  ..., -0.3637,  0.1299,  0.2670],\n",
       "                      [ 0.0528,  0.0172,  0.4838,  ..., -0.2870,  0.3080,  0.2202],\n",
       "                      [ 0.3023,  0.1137,  0.3672,  ..., -0.2600,  0.0867,  0.0963]],\n",
       "                     device='cuda:0')),\n",
       "             ('lstm.weight_hh_l0',\n",
       "              tensor([[-0.1619, -0.0698, -0.0399,  ...,  0.1912, -0.0714, -0.1047],\n",
       "                      [ 0.0147, -0.1259,  0.0252,  ..., -0.0756, -0.1936,  0.0060],\n",
       "                      [-0.0444, -0.0535, -0.0200,  ...,  0.2380,  0.0115, -0.0009],\n",
       "                      ...,\n",
       "                      [-0.0876,  0.1682,  0.0890,  ...,  0.1338,  0.2333,  0.0536],\n",
       "                      [ 0.1392, -0.1553, -0.0552,  ...,  0.1127,  0.2401,  0.0168],\n",
       "                      [ 0.1633,  0.1308, -0.0691,  ..., -0.0693,  0.1875,  0.1174]],\n",
       "                     device='cuda:0')),\n",
       "             ('lstm.bias_ih_l0',\n",
       "              tensor([0.1408, 0.0869, 0.1090,  ..., 0.0289, 0.1735, 0.0382], device='cuda:0')),\n",
       "             ('lstm.bias_hh_l0',\n",
       "              tensor([0.0989, 0.1079, 0.0980,  ..., 0.0066, 0.1808, 0.0537], device='cuda:0')),\n",
       "             ('lstm.weight_ih_l1',\n",
       "              tensor([[-0.0070, -0.0370, -0.0346,  ...,  0.0884, -0.1319, -0.0174],\n",
       "                      [-0.2330, -0.0834, -0.0311,  ..., -0.0018, -0.0184, -0.1220],\n",
       "                      [ 0.0074, -0.1464, -0.2011,  ...,  0.0869, -0.0547,  0.0099],\n",
       "                      ...,\n",
       "                      [-0.0370, -0.0072, -0.0510,  ..., -0.0459,  0.0717,  0.0090],\n",
       "                      [ 0.0562, -0.0211, -0.1772,  ...,  0.0945,  0.0763,  0.0897],\n",
       "                      [ 0.0121, -0.1097, -0.0257,  ...,  0.0951,  0.0466, -0.0370]],\n",
       "                     device='cuda:0')),\n",
       "             ('lstm.weight_hh_l1',\n",
       "              tensor([[ 0.1591,  0.1154,  0.1012,  ..., -0.1395, -0.0112, -0.1532],\n",
       "                      [-0.1958, -0.1476, -0.0111,  ...,  0.2432,  0.0114,  0.2649],\n",
       "                      [ 0.2926, -0.0023, -0.0450,  ...,  0.0882, -0.0551, -0.0443],\n",
       "                      ...,\n",
       "                      [ 0.2423, -0.0366,  0.0117,  ..., -0.3330,  0.0449, -0.1160],\n",
       "                      [ 0.1236,  0.1119,  0.1437,  ...,  0.0830, -0.2539,  0.0534],\n",
       "                      [ 0.0358,  0.0499, -0.1235,  ...,  0.0575,  0.1626,  0.1513]],\n",
       "                     device='cuda:0')),\n",
       "             ('lstm.bias_ih_l1',\n",
       "              tensor([0.0510, 0.0116, 0.0989,  ..., 0.0192, 0.0346, 0.1213], device='cuda:0')),\n",
       "             ('lstm.bias_hh_l1',\n",
       "              tensor([ 0.0656,  0.0008,  0.0860,  ..., -0.0345, -0.0187,  0.1599], device='cuda:0')),\n",
       "             ('fc.weight',\n",
       "              tensor([[-0.0527, -0.0879, -0.0492,  ...,  0.0839,  0.0347, -0.0008],\n",
       "                      [-0.0174,  0.0998,  0.1351,  ..., -0.0684, -0.1826, -0.0972],\n",
       "                      [-0.0823,  0.0278,  0.0673,  ..., -0.1660, -0.1864, -0.0921],\n",
       "                      ...,\n",
       "                      [-0.0573,  0.0831,  0.0912,  ..., -0.0645, -0.0808, -0.1310],\n",
       "                      [-0.0368, -0.0149, -0.0676,  ..., -0.1172,  0.0582,  0.0277],\n",
       "                      [-0.1461,  0.2014,  0.1727,  ..., -0.0682, -0.3283, -0.0751]],\n",
       "                     device='cuda:0')),\n",
       "             ('fc.bias',\n",
       "              tensor([ 0.1332, -0.1927, -0.1931,  0.0196, -0.1974, -0.1600, -0.2312, -0.1272,\n",
       "                      -0.2141,  0.2121, -0.1456, -0.1586, -0.1411, -0.1391, -0.1802, -0.1824,\n",
       "                      -0.1473, -0.2610,  0.0703, -0.2233, -0.0749, -0.1002, -0.1624, -0.0982,\n",
       "                      -0.1709, -0.1657, -0.1081, -0.1725, -0.2508, -0.1078, -0.0194, -0.2782,\n",
       "                      -0.2218, -0.0799, -0.2458, -0.1011, -0.2679,  0.0105, -0.3153, -0.2947,\n",
       "                       0.0801, -0.1368, -0.1237,  0.0078, -0.3155, -0.0779, -0.2382, -0.1629,\n",
       "                      -0.1784,  0.0517, -0.0118, -0.3215,  0.2503, -0.0634, -0.2524, -0.2665,\n",
       "                      -0.1727, -0.0995, -0.0739, -0.0590, -0.1269,  0.0835, -0.1805,  0.0194,\n",
       "                      -0.2548, -0.1756,  0.1578, -0.1518, -0.0225, -0.2273, -0.1670, -0.0461,\n",
       "                      -0.1360,  0.1628, -0.2512, -0.1696, -0.0171, -0.1439, -0.1899, -0.1445,\n",
       "                      -0.0874, -0.2996, -0.0211], device='cuda:0'))])"
      ]
     },
     "execution_count": 102,
     "metadata": {},
     "output_type": "execute_result"
    }
   ],
   "source": [
    " net.state_dict()"
   ]
  },
  {
   "cell_type": "code",
   "execution_count": 103,
   "metadata": {},
   "outputs": [],
   "source": [
    "# change the name, for saving multiple files\n",
    "model_name = 'rnn_x_epoch.net'\n",
    "\n",
    "checkpoint = {'n_hidden': net.n_hidden,\n",
    "              'n_layers': net.n_layers,\n",
    "              'state_dict': net.state_dict(),\n",
    "              'tokens': net.chars}\n",
    "\n",
    "with open(model_name, 'wb') as f:\n",
    "    torch.save(checkpoint, f)"
   ]
  },
  {
   "cell_type": "markdown",
   "metadata": {},
   "source": [
    "---\n",
    "## Making Predictions\n",
    "\n",
    "Now that the model is trained, we'll want to sample from it and make predictions about next characters! To sample, we pass in a character and have the network predict the next character. Then we take that character, pass it back in, and get another predicted character. Just keep doing this and you'll generate a bunch of text!\n",
    "\n",
    "### A note on the `predict`  function\n",
    "\n",
    "The output of our RNN is from a fully-connected layer and it outputs a **distribution of next-character scores**.\n",
    "\n",
    "> To actually get the next character, we apply a softmax function, which gives us a *probability* distribution that we can then sample to predict the next character.\n",
    "\n",
    "### Top K sampling\n",
    "\n",
    "Our predictions come from a categorical probability distribution over all the possible characters. We can make the sample text and make it more reasonable to handle (with less variables) by only considering some $K$ most probable characters. This will prevent the network from giving us completely absurd characters while allowing it to introduce some noise and randomness into the sampled text. Read more about [topk, here](https://pytorch.org/docs/stable/torch.html#torch.topk).\n"
   ]
  },
  {
   "cell_type": "code",
   "execution_count": 112,
   "metadata": {},
   "outputs": [
    {
     "data": {
      "text/plain": [
       "(tensor([[[5, 4, 3]]], dtype=torch.int32), tensor([[[4, 3, 2]]]))"
      ]
     },
     "execution_count": 112,
     "metadata": {},
     "output_type": "execute_result"
    }
   ],
   "source": [
    "a = np.array([[[1,2,3,4,5]]])\n",
    "torch.from_numpy(a).topk(3)"
   ]
  },
  {
   "cell_type": "code",
   "execution_count": 113,
   "metadata": {},
   "outputs": [],
   "source": [
    "def predict(net, char, h=None, top_k=None):\n",
    "        ''' Given a character, predict the next character.\n",
    "            Returns the predicted character and the hidden state.\n",
    "        '''\n",
    "        \n",
    "        # tensor inputs\n",
    "        x = np.array([[net.char2int[char]]])\n",
    "        x = one_hot_encode(x, len(net.chars))\n",
    "        inputs = torch.from_numpy(x)\n",
    "        \n",
    "        if(train_on_gpu):\n",
    "            inputs = inputs.cuda()\n",
    "        \n",
    "        # detach hidden state from history\n",
    "        h = tuple([each.data for each in h])\n",
    "        # get the output of the model\n",
    "        out, h = net(inputs, h)\n",
    "\n",
    "        # get the character probabilities\n",
    "        p = F.softmax(out, dim=1).data\n",
    "        if(train_on_gpu):\n",
    "            p = p.cpu() # move to cpu\n",
    "        \n",
    "        # get top characters\n",
    "        if top_k is None:\n",
    "            top_ch = np.arange(len(net.chars))\n",
    "        else:\n",
    "            p, top_ch = p.topk(top_k)\n",
    "            top_ch = top_ch.numpy().squeeze()\n",
    "        \n",
    "        # select the likely next character with some element of randomness\n",
    "        p = p.numpy().squeeze()\n",
    "        char = np.random.choice(top_ch, p=p/p.sum())\n",
    "        \n",
    "        # return the encoded value of the predicted char and the hidden state\n",
    "        return net.int2char[char], h"
   ]
  },
  {
   "cell_type": "markdown",
   "metadata": {},
   "source": [
    "### Priming and generating text \n",
    "\n",
    "Typically you'll want to prime the network so you can build up a hidden state. Otherwise the network will start out generating characters at random. In general the first bunch of characters will be a little rough since it hasn't built up a long history of characters to predict from."
   ]
  },
  {
   "cell_type": "code",
   "execution_count": 114,
   "metadata": {},
   "outputs": [],
   "source": [
    "def sample(net, size, prime='The', top_k=None):\n",
    "        \n",
    "    if(train_on_gpu):\n",
    "        net.cuda()\n",
    "    else:\n",
    "        net.cpu()\n",
    "    \n",
    "    net.eval() # eval mode\n",
    "    \n",
    "    # First off, run through the prime characters\n",
    "    chars = [ch for ch in prime]\n",
    "    h = net.init_hidden(1)\n",
    "    for ch in prime:\n",
    "        char, h = predict(net, ch, h, top_k=top_k)\n",
    "\n",
    "    chars.append(char)\n",
    "    \n",
    "    # Now pass in the previous character and get a new one\n",
    "    for ii in range(size):\n",
    "        char, h = predict(net, chars[-1], h, top_k=top_k)\n",
    "        chars.append(char)\n",
    "\n",
    "    return ''.join(chars)"
   ]
  },
  {
   "cell_type": "code",
   "execution_count": 115,
   "metadata": {},
   "outputs": [
    {
     "name": "stdout",
     "output_type": "stream",
     "text": [
      "Anna. Before the cannor would\n",
      "blame to the staring to the charried there were subsect on his\n",
      "word. He was alone, that still they all should have attending to her sister, and however thirty\n",
      "cares, was an ambassador, a man who could not be sorry things, and to\n",
      "come and saw her for her. The pathe of the counting had the sack man\n",
      "had been the meadow to say that this children was tarking to the poor\n",
      "of the point. As he was not stepping into the strange as the face\n",
      "were all soon and had not the meaning of that imparinity of the first\n",
      "sister to stand any more, and a sort of thousand thought that insulted\n",
      "him. He saw him at the better. He was not answered him, at\n",
      "his face which they came and steep out in the way.\n",
      "\n",
      "All about it answering all her eyes and handsed and tears, and they should\n",
      "have said a long whole since and their face, the string to take\n",
      "some proper his words in his face. And then the princess sat down.\n",
      "\n",
      "Anna, and was told me into that sort of soliture.\n",
      "\n",
      "And her husband had always carr\n"
     ]
    }
   ],
   "source": [
    "print(sample(net, 1000, prime='Anna', top_k=5))"
   ]
  },
  {
   "cell_type": "markdown",
   "metadata": {},
   "source": [
    "## Loading a checkpoint"
   ]
  },
  {
   "cell_type": "code",
   "execution_count": 116,
   "metadata": {},
   "outputs": [],
   "source": [
    "# Here we have loaded in a model that trained over 20 epochs `rnn_20_epoch.net`\n",
    "with open('rnn_x_epoch.net', 'rb') as f:\n",
    "    checkpoint = torch.load(f)\n",
    "    \n",
    "loaded = CharRNN(checkpoint['tokens'], n_hidden=checkpoint['n_hidden'], n_layers=checkpoint['n_layers'])\n",
    "loaded.load_state_dict(checkpoint['state_dict'])"
   ]
  },
  {
   "cell_type": "code",
   "execution_count": 117,
   "metadata": {},
   "outputs": [
    {
     "name": "stdout",
     "output_type": "stream",
     "text": [
      "And Levin said all\n",
      "her hand and did not go in on to the commissiom of her each.\n",
      "\n",
      "All the world of his waiter was the carriage and solitude, he shouted her\n",
      "feeling. He came in, and was a good-bugg to stend to her and had such\n",
      "being before. She saw her, and would be to say the princess.\n",
      "\n",
      "The sense in his study of singer he was the most things that he\n",
      "had seen for the professor. But the conversation and serious and half were\n",
      "cheaked, and the midicate still sented in the fater of a consciousness\n",
      "in his horses in the day. But the children were a man to several time\n",
      "that the promise was taken away to him and thinking of him to say, and so that the conversation, he should\n",
      "belo with their children which had been taking the merry\n",
      "one who could not be such proposed for sixty, but that she was already\n",
      "before, had been a sendatt carriage to bryange her son, and was to\n",
      "get to see it, and the people he heard them of success. The discriec it always\n",
      "did not ask, the servant was almost timidly, and herself, had so seried\n",
      "him and would have been a little breaking table, and she had so not all his sense.\n",
      "His eyes and some, her manner to the sters of her eyes. But then\n",
      "he had been to bring to a beglowners, and there was the counts in the\n",
      "same time, then all the first too tear of its first-rong was the\n",
      "class of this weather and this, who had not the most people and\n",
      "the mother, so much because they were at the time. He stopped at all the countess\n",
      "and the still sunsain of their face. There would think he had been said and\n",
      "dourts walked on her suffering. The previous secretary was a face and the\n",
      "cread of all she was never asking without any society\n",
      "with the common of to stand.\n",
      "\n",
      "She had not taken in her son, who had been tentled in the semorate soune\n",
      "that she was to say to herself.\"\n",
      "\n",
      "\"Of course, I shall be in a sister, and have no delight, to my courie to be\n",
      "there of his mother and this,\" he said, without country, and when\n",
      "he could not change the passion of their house, he went into her eyes and\n",
      "his handk\n"
     ]
    }
   ],
   "source": [
    "# Sample using a loaded model\n",
    "print(sample(loaded, 2000, top_k=5, prime=\"And Levin said\"))"
   ]
  },
  {
   "cell_type": "markdown",
   "metadata": {
    "collapsed": true
   },
   "source": [
    " ## My Questions on Slack:\n",
    " #### For Char-RNN, why do we need to initialize the hidden/cell states to 0 each epoch? wouldn't it mess up the weights or a waste of previous training? \n",
    "Answer 1: \n",
    ">I think it won't waste the previous training. it is actually the other way around. If you don't reinit the hidden, the network will find it hard to fit the data, here is why.\n",
    "\n",
    ">Consider a very simple case when you only have a single character `a` and you want to predict `b`. You first start with hidden of 0, let's call it `h`. So the first time you predict `b` you will use `a`  as the input and `h` as the hidden, from here you will get you prediction `b'` and new hidden `h'`.\n",
    "\n",
    ">you then update the model with the loss between `b` and `b'`, remember that the model is updated to fit on input `a` and `h` to produce `b`. Now, if you move to the next epoch and don't reinit the hidden, you will predict `b` with `a` and `h'` which is not what the model is updated for, hence the model will find it hard to fit its weight.\n",
    "\n",
    "Answer 2: \n",
    ">The hidden state is what is used for the model to know what came before in a sequence, so if you train one sequence and keep the same hidden state for the next sequence the idea is that the model will act as if the previous sequence was part of the current sequence being processed. I don't know why in the character example they don't initialize the hidden state for each batch. I tested initializing the hidden state at each batch and the model had almost the same performance.\n",
    "\n",
    ">It doesn't hurt the weights because it is a kind of input to the layer, the difference is that the input has its values set to 0.\n",
    "\n",
    "Answer 3: \n",
    ">in RNN we have 2 things that got multiplied by the weights that the RNN learned , the current input and what it memorized from previous inputs. In each epoch you pass the data once as sequence of smaller inputs vectors, at the beginning you have random weights and zero knowledge of the data hence you start with hidden state of all zeros after the first sequence of data is passed the weights will be updated with back propagation and the hidden state will be updated based on the current input. As the next sequence is passed as input, you already have some information about what happened as a hidden state and an updated weight; you will then use this information to do the forward pass in the current sequence and do the update again until you finish all the sequences. By the end you will have the weights that were updated base on the entire data but the hidden state is of the last sequence, the are not perfect so yo need to go over the data again to adjust the weights here you start from the first few characters in the data and you don’t have any characters before that as the data is not circular that is why you need to reset the hidden state and keep the weights \n"
   ]
  },
  {
   "cell_type": "code",
   "execution_count": null,
   "metadata": {},
   "outputs": [],
   "source": []
  }
 ],
 "metadata": {
  "kernelspec": {
   "display_name": "Python [default]",
   "language": "python",
   "name": "python3"
  },
  "language_info": {
   "codemirror_mode": {
    "name": "ipython",
    "version": 3
   },
   "file_extension": ".py",
   "mimetype": "text/x-python",
   "name": "python",
   "nbconvert_exporter": "python",
   "pygments_lexer": "ipython3",
   "version": "3.6.3"
  }
 },
 "nbformat": 4,
 "nbformat_minor": 2
}
