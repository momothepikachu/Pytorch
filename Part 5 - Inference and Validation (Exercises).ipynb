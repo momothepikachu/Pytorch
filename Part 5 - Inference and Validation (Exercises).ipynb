{
 "cells": [
  {
   "cell_type": "markdown",
   "metadata": {},
   "source": [
    "# Inference and Validation\n",
    "\n",
    "Now that you have a trained network, you can use it for making predictions. This is typically called **inference**, a term borrowed from statistics. However, neural networks have a tendency to perform *too well* on the training data and aren't able to generalize to data that hasn't been seen before. This is called **overfitting** and it impairs inference performance. To test for overfitting while training, we measure the performance on data not in the training set called the **validation** set. We avoid overfitting through regularization such as dropout while monitoring the validation performance during training. In this notebook, I'll show you how to do this in PyTorch. \n",
    "\n",
    "As usual, let's start by loading the dataset through torchvision. You'll learn more about torchvision and loading data in a later part. This time we'll be taking advantage of the test set which you can get by setting `train=False` here:\n",
    "\n",
    "```python\n",
    "testset = datasets.FashionMNIST('~/.pytorch/F_MNIST_data/', download=True, train=False, transform=transform)\n",
    "```\n",
    "\n",
    "The test set contains images just like the training set. Typically you'll see 10-20% of the original dataset held out for testing and validation with the rest being used for training."
   ]
  },
  {
   "cell_type": "code",
   "execution_count": 1,
   "metadata": {},
   "outputs": [],
   "source": [
    "import torch\n",
    "from torchvision import datasets, transforms\n",
    "\n",
    "# Define a transform to normalize the data\n",
    "transform = transforms.Compose([transforms.ToTensor(),\n",
    "                                transforms.Normalize((0.5, 0.5, 0.5), (0.5, 0.5, 0.5))])\n",
    "# Download and load the training data\n",
    "trainset = datasets.FashionMNIST('~/.pytorch/F_MNIST_data/', download=True, train=True, transform=transform)\n",
    "trainloader = torch.utils.data.DataLoader(trainset, batch_size=64, shuffle=True)\n",
    "\n",
    "# Download and load the test data\n",
    "testset = datasets.FashionMNIST('~/.pytorch/F_MNIST_data/', download=True, train=False, transform=transform)\n",
    "testloader = torch.utils.data.DataLoader(testset, batch_size=64, shuffle=True)"
   ]
  },
  {
   "cell_type": "code",
   "execution_count": 2,
   "metadata": {},
   "outputs": [
    {
     "name": "stdout",
     "output_type": "stream",
     "text": [
      "157\n",
      "938\n"
     ]
    }
   ],
   "source": [
    "print(len(testloader))\n",
    "print(len(trainloader))"
   ]
  },
  {
   "cell_type": "markdown",
   "metadata": {},
   "source": [
    "Here I'll create a model like normal, using the same one from my solution for part 4."
   ]
  },
  {
   "cell_type": "code",
   "execution_count": 3,
   "metadata": {},
   "outputs": [],
   "source": [
    "from torch import nn, optim\n",
    "import torch.nn.functional as F\n",
    "\n",
    "class Classifier(nn.Module):\n",
    "    def __init__(self):\n",
    "        super().__init__()\n",
    "        self.fc1 = nn.Linear(784, 256)\n",
    "        self.fc2 = nn.Linear(256, 128)\n",
    "        self.fc3 = nn.Linear(128, 64)\n",
    "        self.fc4 = nn.Linear(64, 10)\n",
    "        \n",
    "    def forward(self, x):\n",
    "        # make sure input tensor is flattened\n",
    "        x = x.view(x.shape[0], -1)\n",
    "        \n",
    "        x = F.relu(self.fc1(x))\n",
    "        x = F.relu(self.fc2(x))\n",
    "        x = F.relu(self.fc3(x))\n",
    "        x = F.log_softmax(self.fc4(x), dim=1)\n",
    "        \n",
    "        return x"
   ]
  },
  {
   "cell_type": "markdown",
   "metadata": {},
   "source": [
    "The goal of validation is to measure the model's performance on data that isn't part of the training set. Performance here is up to the developer to define though. Typically this is just accuracy, the percentage of classes the network predicted correctly. Other options are [precision and recall](https://en.wikipedia.org/wiki/Precision_and_recall#Definition_(classification_context)) and top-5 error rate. We'll focus on accuracy here. First I'll do a forward pass with one batch from the test set."
   ]
  },
  {
   "cell_type": "code",
   "execution_count": 4,
   "metadata": {},
   "outputs": [
    {
     "name": "stdout",
     "output_type": "stream",
     "text": [
      "torch.Size([64, 10])\n"
     ]
    }
   ],
   "source": [
    "model = Classifier()\n",
    "\n",
    "images, labels = next(iter(testloader))\n",
    "# Get the class probabilities\n",
    "ps = torch.exp(model(images))\n",
    "# Make sure the shape is appropriate, we should get 10 class probabilities for 64 examples\n",
    "print(ps.shape)"
   ]
  },
  {
   "cell_type": "markdown",
   "metadata": {},
   "source": [
    "With the probabilities, we can get the most likely class using the `ps.topk` method. This returns the $k$ highest values. Since we just want the most likely class, we can use `ps.topk(1)`. This returns a tuple of the top-$k$ values and the top-$k$ indices. If the highest value is the fifth element, we'll get back 4 as the index."
   ]
  },
  {
   "cell_type": "code",
   "execution_count": 5,
   "metadata": {},
   "outputs": [
    {
     "name": "stdout",
     "output_type": "stream",
     "text": [
      "tensor([[3],\n",
      "        [4],\n",
      "        [4],\n",
      "        [4],\n",
      "        [4],\n",
      "        [4],\n",
      "        [4],\n",
      "        [4],\n",
      "        [4],\n",
      "        [4]])\n"
     ]
    }
   ],
   "source": [
    "top_p, top_class = ps.topk(1, dim=1)\n",
    "# Look at the most likely classes for the first 10 examples\n",
    "print(top_class[:10,:])"
   ]
  },
  {
   "cell_type": "markdown",
   "metadata": {},
   "source": [
    "Now we can check if the predicted classes match the labels. This is simple to do by equating `top_class` and `labels`, but we have to be careful of the shapes. Here `top_class` is a 2D tensor with shape `(64, 1)` while `labels` is 1D with shape `(64)`. To get the equality to work out the way we want, `top_class` and `labels` must have the same shape.\n",
    "\n",
    "If we do\n",
    "\n",
    "```python\n",
    "equals = top_class == labels\n",
    "```\n",
    "\n",
    "`equals` will have shape `(64, 64)`, try it yourself. What it's doing is comparing the one element in each row of `top_class` with each element in `labels` which returns 64 True/False boolean values for each row."
   ]
  },
  {
   "cell_type": "code",
   "execution_count": 6,
   "metadata": {},
   "outputs": [],
   "source": [
    "equals = top_class == labels.view(*top_class.shape)"
   ]
  },
  {
   "cell_type": "code",
   "execution_count": 7,
   "metadata": {},
   "outputs": [
    {
     "data": {
      "text/plain": [
       "tensor([[0],\n",
       "        [0],\n",
       "        [0],\n",
       "        [0],\n",
       "        [0],\n",
       "        [0],\n",
       "        [0],\n",
       "        [0],\n",
       "        [0],\n",
       "        [0]], dtype=torch.uint8)"
      ]
     },
     "execution_count": 7,
     "metadata": {},
     "output_type": "execute_result"
    }
   ],
   "source": [
    "equals[:10]"
   ]
  },
  {
   "cell_type": "markdown",
   "metadata": {},
   "source": [
    "Now we need to calculate the percentage of correct predictions. `equals` has binary values, either 0 or 1. This means that if we just sum up all the values and divide by the number of values, we get the percentage of correct predictions. This is the same operation as taking the mean, so we can get the accuracy with a call to `torch.mean`. If only it was that simple. If you try `torch.mean(equals)`, you'll get an error\n",
    "\n",
    "```\n",
    "RuntimeError: mean is not implemented for type torch.ByteTensor\n",
    "```\n",
    "\n",
    "This happens because `equals` has type `torch.ByteTensor` but `torch.mean` isn't implemented for tensors with that type. So we'll need to convert `equals` to a float tensor. Note that when we take `torch.mean` it returns a scalar tensor, to get the actual value as a float we'll need to do `accuracy.item()`."
   ]
  },
  {
   "cell_type": "code",
   "execution_count": 8,
   "metadata": {},
   "outputs": [
    {
     "data": {
      "text/plain": [
       "'torch.ByteTensor'"
      ]
     },
     "execution_count": 8,
     "metadata": {},
     "output_type": "execute_result"
    }
   ],
   "source": [
    "equals.type()"
   ]
  },
  {
   "cell_type": "code",
   "execution_count": 9,
   "metadata": {},
   "outputs": [
    {
     "data": {
      "text/plain": [
       "torch.Tensor"
      ]
     },
     "execution_count": 9,
     "metadata": {},
     "output_type": "execute_result"
    }
   ],
   "source": [
    "type(equals)"
   ]
  },
  {
   "cell_type": "code",
   "execution_count": 10,
   "metadata": {},
   "outputs": [
    {
     "name": "stdout",
     "output_type": "stream",
     "text": [
      "Accuracy: 12.5%\n"
     ]
    }
   ],
   "source": [
    "accuracy = torch.mean(equals.type(torch.FloatTensor))\n",
    "print(f'Accuracy: {accuracy.item()*100}%')"
   ]
  },
  {
   "cell_type": "markdown",
   "metadata": {},
   "source": [
    "The network is untrained so it's making random guesses and we should see an accuracy around 10%. Now let's train our network and include our validation pass so we can measure how well the network is performing on the test set. Since we're not updating our parameters in the validation pass, we can speed up our code by turning off gradients using `torch.no_grad()`:\n",
    "\n",
    "```python\n",
    "# turn off gradients\n",
    "with torch.no_grad():\n",
    "    # validation pass here\n",
    "    for images, labels in testloader:\n",
    "        ...\n",
    "```\n",
    "\n",
    ">**Exercise:** Implement the validation loop below and print out the total accuracy after the loop. You can largely copy and paste the code from above, but I suggest typing it in because writing it out yourself is essential for building the skill. In general you'll always learn more by typing it rather than copy-pasting. You should be able to get an accuracy above 80%."
   ]
  },
  {
   "cell_type": "code",
   "execution_count": 11,
   "metadata": {},
   "outputs": [
    {
     "name": "stdout",
     "output_type": "stream",
     "text": [
      "Epoch: 1/30\n",
      "Training loss: 0.5198339316954237\n",
      "Testing loss: 0.47048765420913696\n",
      "Accuracy: 0.0954107791185379%\n",
      "Epoch: 2/30\n",
      "Training loss: 0.39383104546809755\n",
      "Testing loss: 0.4011206328868866\n",
      "Accuracy: 0.1042962521314621%\n",
      "Epoch: 3/30\n",
      "Training loss: 0.35449347383717994\n",
      "Testing loss: 0.4217410683631897\n",
      "Accuracy: 0.1004895269870758%\n",
      "Epoch: 4/30\n",
      "Training loss: 0.33140063729049807\n",
      "Testing loss: 0.39610639214515686\n",
      "Accuracy: 0.10057971626520157%\n",
      "Epoch: 5/30\n",
      "Training loss: 0.31347336343674265\n",
      "Testing loss: 0.3985607326030731\n",
      "Accuracy: 0.10097469389438629%\n",
      "Epoch: 6/30\n",
      "Training loss: 0.30099848969214\n",
      "Testing loss: 0.3615185022354126\n",
      "Accuracy: 0.10097469389438629%\n",
      "Epoch: 7/30\n",
      "Training loss: 0.2925216954574783\n",
      "Testing loss: 0.3493766486644745\n",
      "Accuracy: 0.09900601953268051%\n",
      "Epoch: 8/30\n",
      "Training loss: 0.2819618025838312\n",
      "Testing loss: 0.3761255443096161\n",
      "Accuracy: 0.09947564452886581%\n",
      "Epoch: 9/30\n",
      "Training loss: 0.2751329235637239\n",
      "Testing loss: 0.374843955039978\n",
      "Accuracy: 0.10143187642097473%\n",
      "Epoch: 10/30\n",
      "Training loss: 0.2649958500825266\n",
      "Testing loss: 0.3620387315750122\n",
      "Accuracy: 0.10169623047113419%\n",
      "Epoch: 11/30\n",
      "Training loss: 0.25890770162155885\n",
      "Testing loss: 0.36089494824409485\n",
      "Accuracy: 0.10089072585105896%\n",
      "Epoch: 12/30\n",
      "Training loss: 0.25267714310064116\n",
      "Testing loss: 0.3882231116294861\n",
      "Accuracy: 0.10011009871959686%\n",
      "Epoch: 13/30\n",
      "Training loss: 0.24756415390860298\n",
      "Testing loss: 0.3752392828464508\n",
      "Accuracy: 0.1005455031991005%\n",
      "Epoch: 14/30\n",
      "Training loss: 0.2421651044761194\n",
      "Testing loss: 0.3801429569721222\n",
      "Accuracy: 0.10147231072187424%\n",
      "Epoch: 15/30\n",
      "Training loss: 0.23650051745127387\n",
      "Testing loss: 0.37009862065315247\n",
      "Accuracy: 0.10094359517097473%\n",
      "Epoch: 16/30\n",
      "Training loss: 0.2285000430161892\n",
      "Testing loss: 0.3693543076515198\n",
      "Accuracy: 0.10077254474163055%\n",
      "Epoch: 17/30\n",
      "Training loss: 0.22758813207544115\n",
      "Testing loss: 0.3981018662452698\n",
      "Accuracy: 0.09917707741260529%\n",
      "Epoch: 18/30\n",
      "Training loss: 0.2228977634176326\n",
      "Testing loss: 0.39116644859313965\n",
      "Accuracy: 0.10017851740121841%\n",
      "Epoch: 19/30\n",
      "Training loss: 0.2172800766141303\n",
      "Testing loss: 0.4076510965824127\n",
      "Accuracy: 0.09956583380699158%\n",
      "Epoch: 20/30\n",
      "Training loss: 0.213097640255621\n",
      "Testing loss: 0.40696820616722107\n",
      "Accuracy: 0.09982085973024368%\n",
      "Epoch: 21/30\n",
      "Training loss: 0.2142312014415892\n",
      "Testing loss: 0.4545082449913025\n",
      "Accuracy: 0.0979299396276474%\n",
      "Epoch: 22/30\n",
      "Training loss: 0.20742987845339247\n",
      "Testing loss: 0.41545388102531433\n",
      "Accuracy: 0.09864525496959686%\n",
      "Epoch: 23/30\n",
      "Training loss: 0.20353958013850743\n",
      "Testing loss: 0.3884855806827545\n",
      "Accuracy: 0.0999421551823616%\n",
      "Epoch: 24/30\n",
      "Training loss: 0.20197903560295796\n",
      "Testing loss: 0.386164128780365\n",
      "Accuracy: 0.09879142791032791%\n",
      "Epoch: 25/30\n",
      "Training loss: 0.19407335260926661\n",
      "Testing loss: 0.40857312083244324\n",
      "Accuracy: 0.10114575177431107%\n",
      "Epoch: 26/30\n",
      "Training loss: 0.19364225340566274\n",
      "Testing loss: 0.3828117549419403\n",
      "Accuracy: 0.09921439737081528%\n",
      "Epoch: 27/30\n",
      "Training loss: 0.1874538698176077\n",
      "Testing loss: 0.3981361985206604\n",
      "Accuracy: 0.09959382563829422%\n",
      "Epoch: 28/30\n",
      "Training loss: 0.1897008538897485\n",
      "Testing loss: 0.43304359912872314\n",
      "Accuracy: 0.10076010227203369%\n",
      "Epoch: 29/30\n",
      "Training loss: 0.18951729958706193\n",
      "Testing loss: 0.42961785197257996\n",
      "Accuracy: 0.09969645738601685%\n",
      "Epoch: 30/30\n",
      "Training loss: 0.18567318372281472\n",
      "Testing loss: 0.4268595278263092\n",
      "Accuracy: 0.10112708806991577%\n"
     ]
    }
   ],
   "source": [
    "model = Classifier()\n",
    "criterion = nn.NLLLoss()\n",
    "optimizer = optim.Adam(model.parameters(), lr=0.003)\n",
    "\n",
    "epochs = 30\n",
    "steps = 0\n",
    "\n",
    "train_losses, test_losses = [], []\n",
    "for e in range(epochs):\n",
    "    running_loss = 0\n",
    "    for images, labels in trainloader:\n",
    "        \n",
    "        optimizer.zero_grad()\n",
    "        \n",
    "        log_ps = model(images)\n",
    "        loss = criterion(log_ps, labels)\n",
    "        loss.backward()\n",
    "        optimizer.step()\n",
    "        \n",
    "        running_loss += loss.item()\n",
    "        \n",
    "    else:\n",
    "        ## TODO: Implement the validation pass and print out the validation accuracy\n",
    "        # turn off gradients\n",
    "        with torch.no_grad():\n",
    "            test_loss = 0\n",
    "            accuracy = 0\n",
    "            for testData, testLabels in testloader:                \n",
    "                test_ps = model(testData)\n",
    "                test_loss += criterion(test_ps, testLabels)\n",
    "                top_value, top_indices = torch.exp(test_ps).topk(1, dim=1)\n",
    "                accuracy += torch.mean((top_indices == labels).type(torch.FloatTensor))\n",
    "                \n",
    "        train_losses.append(running_loss/len(trainloader))\n",
    "        test_losses.append(test_loss/len(testloader))        \n",
    "        print(f'Epoch: {e+1}/{epochs}')\n",
    "        print(f'Training loss: {running_loss/len(trainloader)}')\n",
    "        print(f'Testing loss: {test_loss/len(testloader)}')\n",
    "        print(f'Accuracy: {accuracy/len(testloader)}%')\n",
    "        "
   ]
  },
  {
   "cell_type": "markdown",
   "metadata": {},
   "source": [
    "## Overfitting\n",
    "\n",
    "If we look at the training and validation losses as we train the network, we can see a phenomenon known as overfitting.\n",
    "\n",
    "<img src='assets/overfitting.png' width=450px>\n",
    "\n",
    "The network learns the training set better and better, resulting in lower training losses. However, it starts having problems generalizing to data outside the training set leading to the validation loss increasing. The ultimate goal of any deep learning model is to make predictions on new data, so we should strive to get the lowest validation loss possible. One option is to use the version of the model with the lowest validation loss, here the one around 8-10 training epochs. This strategy is called *early-stopping*. In practice, you'd save the model frequently as you're training then later choose the model with the lowest validation loss.\n",
    "\n",
    "The most common method to reduce overfitting (outside of early-stopping) is *dropout*, where we randomly drop input units. This forces the network to share information between weights, increasing it's ability to generalize to new data. Adding dropout in PyTorch is straightforward using the [`nn.Dropout`](https://pytorch.org/docs/stable/nn.html#torch.nn.Dropout) module.\n",
    "\n",
    "<img src='assets/dropout.png' width=450px>\n",
    "\n",
    "\n",
    "\n",
    "```python\n",
    "class Classifier(nn.Module):\n",
    "    def __init__(self):\n",
    "        super().__init__()\n",
    "        self.fc1 = nn.Linear(784, 256)\n",
    "        self.fc2 = nn.Linear(256, 128)\n",
    "        self.fc3 = nn.Linear(128, 64)\n",
    "        self.fc4 = nn.Linear(64, 10)\n",
    "        \n",
    "        # Dropout module with 0.2 drop probability\n",
    "        self.dropout = nn.Dropout(p=0.2)\n",
    "        \n",
    "    def forward(self, x):\n",
    "        # make sure input tensor is flattened\n",
    "        x = x.view(x.shape[0], -1)\n",
    "        \n",
    "        # Now with dropout\n",
    "        x = self.dropout(F.relu(self.fc1(x)))\n",
    "        x = self.dropout(F.relu(self.fc2(x)))\n",
    "        x = self.dropout(F.relu(self.fc3(x)))\n",
    "        \n",
    "        # output so no dropout here\n",
    "        x = F.log_softmax(self.fc4(x), dim=1)\n",
    "        \n",
    "        return x\n",
    "```\n",
    "\n",
    "During training we want to use dropout to prevent overfitting, but during inference we want to use the entire network. So, we need to turn off dropout during validation, testing, and whenever we're using the network to make predictions. To do this, you use `model.eval()`. This sets the model to evaluation mode where the dropout probability is 0. You can turn dropout back on by setting the model to train mode with `model.train()`. In general, the pattern for the validation loop will look like this, where you turn off gradients, set the model to evaluation mode, calculate the validation loss and metric, then set the model back to train mode.\n",
    "\n",
    "```python\n",
    "# turn off gradients\n",
    "with torch.no_grad():\n",
    "    \n",
    "    # set model to evaluation mode\n",
    "    model.eval()\n",
    "    \n",
    "    # validation pass here\n",
    "    for images, labels in testloader:\n",
    "        ...\n",
    "\n",
    "# set model back to train mode\n",
    "model.train()\n",
    "```"
   ]
  },
  {
   "cell_type": "markdown",
   "metadata": {},
   "source": [
    "> **Exercise:** Add dropout to your model and train it on Fashion-MNIST again. See if you can get a lower validation loss or higher accuracy."
   ]
  },
  {
   "cell_type": "code",
   "execution_count": 12,
   "metadata": {},
   "outputs": [],
   "source": [
    "## TODO: Define your model with dropout added\n",
    "class Classifier(nn.Module):\n",
    "    def __init__(self):\n",
    "        super().__init__()\n",
    "        self.fc1 = nn.Linear(784, 256)\n",
    "        self.fc2 = nn.Linear(256, 128)\n",
    "        self.fc3 = nn.Linear(128, 64)\n",
    "        self.fc4 = nn.Linear(64, 10)\n",
    "\n",
    "        # Dropout module with 0.2 drop probability\n",
    "        self.dropout = nn.Dropout(p=0.2)\n",
    "\n",
    "    def forward(self, x):\n",
    "        # make sure input tensor is flattened\n",
    "        x = x.view(x.shape[0], -1)\n",
    "\n",
    "        # Now with dropout\n",
    "        x = self.dropout(F.relu(self.fc1(x)))\n",
    "        x = self.dropout(F.relu(self.fc2(x)))\n",
    "        x = self.dropout(F.relu(self.fc3(x)))\n",
    "\n",
    "        # output so no dropout here\n",
    "        x = F.log_softmax(self.fc4(x), dim=1)\n",
    "\n",
    "        return x"
   ]
  },
  {
   "cell_type": "code",
   "execution_count": 13,
   "metadata": {},
   "outputs": [
    {
     "name": "stdout",
     "output_type": "stream",
     "text": [
      "Epoch: 1/15 Training loss: 0.609 Testing loss: 0.475 Test accuracy: 0.830\n",
      "Epoch: 2/15 Training loss: 0.483 Testing loss: 0.433 Test accuracy: 0.842\n",
      "Epoch: 3/15 Training loss: 0.453 Testing loss: 0.419 Test accuracy: 0.845\n",
      "Epoch: 4/15 Training loss: 0.431 Testing loss: 0.433 Test accuracy: 0.846\n",
      "Epoch: 5/15 Training loss: 0.421 Testing loss: 0.392 Test accuracy: 0.861\n",
      "Epoch: 6/15 Training loss: 0.411 Testing loss: 0.397 Test accuracy: 0.859\n",
      "Epoch: 7/15 Training loss: 0.404 Testing loss: 0.408 Test accuracy: 0.856\n",
      "Epoch: 8/15 Training loss: 0.398 Testing loss: 0.403 Test accuracy: 0.854\n",
      "Epoch: 9/15 Training loss: 0.391 Testing loss: 0.377 Test accuracy: 0.871\n",
      "Epoch: 10/15 Training loss: 0.392 Testing loss: 0.389 Test accuracy: 0.864\n",
      "Epoch: 11/15 Training loss: 0.386 Testing loss: 0.398 Test accuracy: 0.860\n",
      "Epoch: 12/15 Training loss: 0.380 Testing loss: 0.391 Test accuracy: 0.865\n",
      "Epoch: 13/15 Training loss: 0.382 Testing loss: 0.379 Test accuracy: 0.871\n",
      "Epoch: 14/15 Training loss: 0.374 Testing loss: 0.384 Test accuracy: 0.869\n",
      "Epoch: 15/15 Training loss: 0.368 Testing loss: 0.380 Test accuracy: 0.867\n"
     ]
    }
   ],
   "source": [
    "## TODO: Train your model with dropout, and monitor the training progress with the validation loss and accuracy\n",
    "model = Classifier()\n",
    "criterion = nn.NLLLoss()\n",
    "optimizer = optim.Adam(model.parameters(), lr=0.003)\n",
    "\n",
    "epoch = 15\n",
    "\n",
    "train_losses, test_losses = [], []\n",
    "for i in range(epoch):\n",
    "    train_loss = 0\n",
    "    for images, labels in trainloader:\n",
    "        \n",
    "        optimizer.zero_grad()\n",
    "        \n",
    "        logits = model(images)\n",
    "        loss = criterion(logits, labels)\n",
    "        loss.backward()\n",
    "        optimizer.step()\n",
    "        \n",
    "        train_loss += loss.item()\n",
    "        \n",
    "    else:\n",
    "        accuracy = 0\n",
    "        test_loss = 0\n",
    "        with torch.no_grad():          \n",
    "            # set model to evaluation mode\n",
    "            model.eval()\n",
    "\n",
    "            for test_imgs, test_labels in testloader:\n",
    "                test_logits = model(test_imgs)\n",
    "                test_loss += criterion(test_logits, test_labels)\n",
    "                prob = torch.exp(test_logits)\n",
    "                top_prob, top_indices = prob.topk(1, dim=1)\n",
    "                equals = top_indices == test_labels.view(*top_indices.shape)\n",
    "                accuracy += torch.mean(equals.type(torch.FloatTensor))\n",
    "        # set model back to train mode\n",
    "        model.train()\n",
    "\n",
    "        train_mean = train_loss/len(trainloader)\n",
    "        test_mean = test_loss/len(testloader)\n",
    "        train_losses.append(train_mean)\n",
    "        test_losses.append(test_mean)\n",
    "\n",
    "        print('Epoch: {}/{}'.format(i+1, epoch),\n",
    "              'Training loss: {:.3f}'.format(train_mean),\n",
    "              'Testing loss: {:.3f}'.format(test_mean),\n",
    "              'Test accuracy: {:.3f}'.format(accuracy/len(testloader)))    \n",
    "        \n",
    "        "
   ]
  },
  {
   "cell_type": "code",
   "execution_count": 14,
   "metadata": {},
   "outputs": [
    {
     "data": {
      "image/png": "[encoded data removed]",
      "text/plain": [
       "<matplotlib.figure.Figure at 0x1b19bff43c8>"
      ]
     },
     "metadata": {
      "image/png": {
       "height": 250,
       "width": 380
      }
     },
     "output_type": "display_data"
    }
   ],
   "source": [
    "%matplotlib inline\n",
    "%config InlineBackend.figure_format = 'retina'\n",
    "\n",
    "import matplotlib.pyplot as plt\n",
    "plt.plot(train_losses, label='Training loss')\n",
    "plt.plot(test_losses, label='Validation loss')\n",
    "plt.legend(frameon=False)\n",
    "plt.show()"
   ]
  },
  {
   "cell_type": "markdown",
   "metadata": {},
   "source": [
    "## Inference\n",
    "\n",
    "Now that the model is trained, we can use it for inference. We've done this before, but now we need to remember to set the model in inference mode with `model.eval()`. You'll also want to turn off autograd with the `torch.no_grad()` context."
   ]
  },
  {
   "cell_type": "code",
   "execution_count": 15,
   "metadata": {},
   "outputs": [
    {
     "data": {
      "image/png": "[encoded data removed]",
      "text/plain": [
       "<matplotlib.figure.Figure at 0x1b19c1517b8>"
      ]
     },
     "metadata": {
      "image/png": {
       "height": 204,
       "width": 423
      }
     },
     "output_type": "display_data"
    }
   ],
   "source": [
    "# Import helper module (should be in the repo)\n",
    "import helper\n",
    "\n",
    "# Test out your network!\n",
    "\n",
    "model.eval()\n",
    "\n",
    "dataiter = iter(testloader)\n",
    "images, labels = dataiter.next()\n",
    "img = images[0]\n",
    "# Convert 2D image to 1D vector\n",
    "img = img.view(1, 784)\n",
    "\n",
    "# Calculate the class probabilities (softmax) for img\n",
    "with torch.no_grad():\n",
    "    output = model.forward(img)\n",
    "\n",
    "ps = torch.exp(output)\n",
    "\n",
    "# Plot the image and probabilities\n",
    "helper.view_classify(img.view(1, 28, 28), ps, version='Fashion')"
   ]
  },
  {
   "cell_type": "code",
   "execution_count": 16,
   "metadata": {},
   "outputs": [
    {
     "name": "stdout",
     "output_type": "stream",
     "text": [
      "Counting steps: 0\n",
      "yay!\n",
      "Counting steps: 1\n",
      "Counting steps: 2\n",
      "Counting steps: 3\n",
      "Counting steps: 4\n",
      "Counting steps: 5\n",
      "Counting steps: 6\n",
      "Counting steps: 7\n",
      "Counting steps: 8\n",
      "Counting steps: 9\n",
      "Counting steps: 10\n",
      "Counting steps: 11\n",
      "Counting steps: 12\n",
      "Counting steps: 13\n",
      "Counting steps: 14\n",
      "Counting steps: 15\n",
      "yay!\n",
      "Counting steps: 16\n",
      "Counting steps: 17\n",
      "Counting steps: 18\n",
      "Counting steps: 19\n",
      "Counting steps: 20\n",
      "Counting steps: 21\n",
      "Counting steps: 22\n",
      "Counting steps: 23\n",
      "Counting steps: 24\n",
      "Counting steps: 25\n",
      "Finish!\n"
     ]
    }
   ],
   "source": [
    "step = 0 \n",
    "while step<=25:\n",
    "    print('Counting steps:', step)\n",
    "    if step % 5 == 0 and step % 3 == 0:\n",
    "        print('yay!')\n",
    "    step += 1\n",
    "print('Finish!')"
   ]
  },
  {
   "cell_type": "markdown",
   "metadata": {},
   "source": [
    "## Next Up!\n",
    "\n",
    "In the next part, I'll show you how to save your trained models. In general, you won't want to train a model everytime you need it. Instead, you'll train once, save it, then load the model when you want to train more or use if for inference."
   ]
  }
 ],
 "metadata": {
  "kernelspec": {
   "display_name": "Python [default]",
   "language": "python",
   "name": "python3"
  },
  "language_info": {
   "codemirror_mode": {
    "name": "ipython",
    "version": 3
   },
   "file_extension": ".py",
   "mimetype": "text/x-python",
   "name": "python",
   "nbconvert_exporter": "python",
   "pygments_lexer": "ipython3",
   "version": "3.6.3"
  }
 },
 "nbformat": 4,
 "nbformat_minor": 2
}
